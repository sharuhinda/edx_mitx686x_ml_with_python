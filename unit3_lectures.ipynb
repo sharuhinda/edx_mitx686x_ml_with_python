{
 "cells": [
  {
   "cell_type": "code",
   "execution_count": 3,
   "metadata": {},
   "outputs": [
    {
     "name": "stdout",
     "output_type": "stream",
     "text": [
      "numpy version: 1.23.5\n",
      "matplotlib version: 3.6.2\n"
     ]
    }
   ],
   "source": [
    "import numpy as np\n",
    "print('numpy version:', np.__version__)\n",
    "\n",
    "import matplotlib as mpl\n",
    "print('matplotlib version:', mpl.__version__)\n",
    "import matplotlib.pyplot as plt\n"
   ]
  },
  {
   "cell_type": "code",
   "execution_count": 2,
   "metadata": {},
   "outputs": [],
   "source": [
    "X = np.array([[-1, -1], [1, -1], [-1, 1], [1, 1]])\n",
    "Y = np.array([1, -1, -1, 1])"
   ]
  },
  {
   "cell_type": "code",
   "execution_count": 4,
   "metadata": {},
   "outputs": [
    {
     "data": {
      "text/plain": [
       "<matplotlib.collections.PathCollection at 0x156748404f0>"
      ]
     },
     "execution_count": 4,
     "metadata": {},
     "output_type": "execute_result"
    },
    {
     "data": {
      "image/png": "[encoded data removed]",
      "text/plain": [
       "<Figure size 640x480 with 1 Axes>"
      ]
     },
     "metadata": {},
     "output_type": "display_data"
    }
   ],
   "source": [
    "plt.scatter(X[:, 0], X[:, 1], c=Y)"
   ]
  },
  {
   "cell_type": "code",
   "execution_count": 5,
   "metadata": {},
   "outputs": [],
   "source": [
    "def dec_func(X):\n",
    "    dec_func_weights = np.array([2, 2, -3])\n",
    "    return X.dot(dec_func_weights)"
   ]
  },
  {
   "attachments": {},
   "cell_type": "markdown",
   "metadata": {},
   "source": [
    "### Backpropagation implementation"
   ]
  },
  {
   "attachments": {},
   "cell_type": "markdown",
   "metadata": {},
   "source": [
    "Cost function in project 3 is defined as $C(W, B, X, Y): C = \\frac{1}{2} (a^L - y)^2$, where W are weights, B - biases, X - input values (features), Y - expected outputs, $a^L$ is value predicted by output layer  \n",
    "Error of the neuron j in layer i can be difined as $\\delta_j^i = \\frac{\\partial{C}}{\\partial{z_j^i}}$, where $z_j^i = W_j^i * a^{i-1} + b_j^i$, $a^{i-1}$ is the output of the previous layer, $W_j^i, b_j^i$ - weights and bias of neuron j in layer i  \n",
    "Then we compute the error of our output layer, $\\delta^L$, via $\\delta_j^L = \\frac{\\partial C}{\\partial a_j^L} f'(z_j^L)$  \n",
    "Next, we find the error $\\delta^i$ in terms of the error in the next layer $\\delta^{i+1}$ via $\\delta^i = ((W^{i+1})^T \\delta^{i+1}) \\odot f'(z^i)$  \n",
    "Now that we have the error of each node in our neural network, computing the gradient with respect to our weights and biases is easy:  \n",
    "$$\n",
    "\\frac{\\partial C}{\\partial w_{jk}^i} = \\delta_j^i a_k^{i-1} = \\delta^i (a^{i-1})^T \\\\\n",
    "\\frac{\\partial C}{\\partial b_j^i} = \\delta_j^i\n",
    "$$"
   ]
  },
  {
   "cell_type": "code",
   "execution_count": null,
   "metadata": {},
   "outputs": [],
   "source": []
  }
 ],
 "metadata": {
  "kernelspec": {
   "display_name": "dsml",
   "language": "python",
   "name": "python3"
  },
  "language_info": {
   "codemirror_mode": {
    "name": "ipython",
    "version": 3
   },
   "file_extension": ".py",
   "mimetype": "text/x-python",
   "name": "python",
   "nbconvert_exporter": "python",
   "pygments_lexer": "ipython3",
   "version": "3.10.8"
  },
  "orig_nbformat": 4
 },
 "nbformat": 4,
 "nbformat_minor": 2
}
