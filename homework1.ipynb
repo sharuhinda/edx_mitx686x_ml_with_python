{
 "cells": [
  {
   "cell_type": "code",
   "execution_count": 1,
   "metadata": {},
   "outputs": [
    {
     "name": "stdout",
     "output_type": "stream",
     "text": [
      "Numpy version: 1.23.5\n",
      "Matplotlib version: 3.6.2\n"
     ]
    }
   ],
   "source": [
    "import numpy as np\n",
    "print('Numpy version:', np.__version__)\n",
    "\n",
    "import matplotlib as mpl\n",
    "print('Matplotlib version:', mpl.__version__)\n",
    "import matplotlib.pyplot as plt\n",
    "\n",
    "\n",
    "import sys\n",
    "import logging"
   ]
  },
  {
   "cell_type": "code",
   "execution_count": 2,
   "metadata": {},
   "outputs": [],
   "source": [
    "logger = logging.getLogger('hw1')\n",
    "logger.setLevel(logging.DEBUG)\n",
    "fmt_str = '%(asctime)s - %(name)s - %(funcName)s - %(levelname)s: %(message)s'\n",
    "formatter = logging.Formatter(fmt=fmt_str, datefmt='%d-%b-%y %H:%M:%S')\n",
    "handler = logging.StreamHandler(stream=sys.stdout)\n",
    "handler.setFormatter(formatter)\n",
    "logger.addHandler(handler)"
   ]
  },
  {
   "cell_type": "code",
   "execution_count": 3,
   "metadata": {},
   "outputs": [
    {
     "name": "stdout",
     "output_type": "stream",
     "text": [
      "19-Feb-23 14:24:51 - hw1 - <module> - DEBUG: Test message\n"
     ]
    }
   ],
   "source": [
    "logger.debug('Test message')"
   ]
  },
  {
   "cell_type": "code",
   "execution_count": 4,
   "metadata": {},
   "outputs": [],
   "source": [
    "X = np.array(\n",
    "    [[-1.0, -1.0],\n",
    "    [1.0, 0.0],\n",
    "    [-1.0, 1.5]]\n",
    ")\n",
    "y = np.array([1.0, -1.0, 1.0])\n",
    "theta = np.array([0.0, 0.0])"
   ]
  },
  {
   "cell_type": "code",
   "execution_count": 5,
   "metadata": {},
   "outputs": [
    {
     "data": {
      "text/plain": [
       "array([[-1. , -1. ],\n",
       "       [ 1. ,  0. ],\n",
       "       [-1. ,  1.5]])"
      ]
     },
     "execution_count": 5,
     "metadata": {},
     "output_type": "execute_result"
    }
   ],
   "source": [
    "X"
   ]
  },
  {
   "cell_type": "code",
   "execution_count": 6,
   "metadata": {},
   "outputs": [
    {
     "name": "stdout",
     "output_type": "stream",
     "text": [
      "[[ 1.   0. ]\n",
      " [-1.  -1. ]\n",
      " [-1.   1.5]]\n",
      "[-1.  1.  1.]\n"
     ]
    }
   ],
   "source": [
    "X_2 = np.array([X[1], X[0], X[2]])\n",
    "y_2 = np.array([y[1], y[0], y[2]])\n",
    "print(X_2)\n",
    "print(y_2)"
   ]
  },
  {
   "cell_type": "code",
   "execution_count": 7,
   "metadata": {},
   "outputs": [
    {
     "data": {
      "text/plain": [
       "0.0"
      ]
     },
     "execution_count": 7,
     "metadata": {},
     "output_type": "execute_result"
    }
   ],
   "source": [
    "X[0].dot(theta)"
   ]
  },
  {
   "cell_type": "code",
   "execution_count": 8,
   "metadata": {},
   "outputs": [],
   "source": [
    "X_3 = np.array(\n",
    "    [[-1.0, -1.0],\n",
    "    [1.0, 0.0],\n",
    "    [-1.0, 10]]\n",
    ")\n",
    "y_3 = y"
   ]
  },
  {
   "cell_type": "code",
   "execution_count": 9,
   "metadata": {},
   "outputs": [
    {
     "name": "stdout",
     "output_type": "stream",
     "text": [
      "[[ 1.  0.]\n",
      " [-1. -1.]\n",
      " [-1. 10.]]\n",
      "[-1.  1.  1.]\n"
     ]
    }
   ],
   "source": [
    "X_4 = np.array([X_3[1], X_3[0], X_3[2]])\n",
    "y_4 = np.array([y_3[1], y_3[0], y_3[2]])\n",
    "print(X_4)\n",
    "print(y_4)"
   ]
  },
  {
   "cell_type": "code",
   "execution_count": 10,
   "metadata": {},
   "outputs": [],
   "source": [
    "def perceptron_update(x_i, y_i, theta):\n",
    "    if y_i * x_i.dot(theta) <= 0:\n",
    "        return theta + y_i * x_i\n",
    "    return theta"
   ]
  },
  {
   "cell_type": "code",
   "execution_count": 11,
   "metadata": {},
   "outputs": [],
   "source": [
    "def perceptron_epoch(X, y, theta):\n",
    "    for i in range(X.shape[0]): # number of rows (observations)\n",
    "        logger.debug(f'Iteration {i}: {theta} => ...')\n",
    "        theta = perceptron_update(X[i], y[i], theta)\n",
    "        logger.debug(f'Iteration {i}:     ... => {theta}')\n",
    "    return theta"
   ]
  },
  {
   "cell_type": "code",
   "execution_count": 12,
   "metadata": {},
   "outputs": [
    {
     "name": "stdout",
     "output_type": "stream",
     "text": [
      "19-Feb-23 14:24:52 - hw1 - <module> - DEBUG: Epoch 0\n",
      "19-Feb-23 14:24:52 - hw1 - perceptron_epoch - DEBUG: Iteration 0: [0. 0.] => ...\n",
      "19-Feb-23 14:24:52 - hw1 - perceptron_epoch - DEBUG: Iteration 0:     ... => [-1.  0.]\n",
      "19-Feb-23 14:24:52 - hw1 - perceptron_epoch - DEBUG: Iteration 1: [-1.  0.] => ...\n",
      "19-Feb-23 14:24:52 - hw1 - perceptron_epoch - DEBUG: Iteration 1:     ... => [-1.  0.]\n",
      "19-Feb-23 14:24:52 - hw1 - perceptron_epoch - DEBUG: Iteration 2: [-1.  0.] => ...\n",
      "19-Feb-23 14:24:52 - hw1 - perceptron_epoch - DEBUG: Iteration 2:     ... => [-1.  0.]\n",
      "19-Feb-23 14:24:52 - hw1 - <module> - DEBUG: Epoch 1\n",
      "19-Feb-23 14:24:52 - hw1 - perceptron_epoch - DEBUG: Iteration 0: [-1.  0.] => ...\n",
      "19-Feb-23 14:24:52 - hw1 - perceptron_epoch - DEBUG: Iteration 0:     ... => [-1.  0.]\n",
      "19-Feb-23 14:24:52 - hw1 - perceptron_epoch - DEBUG: Iteration 1: [-1.  0.] => ...\n",
      "19-Feb-23 14:24:52 - hw1 - perceptron_epoch - DEBUG: Iteration 1:     ... => [-1.  0.]\n",
      "19-Feb-23 14:24:52 - hw1 - perceptron_epoch - DEBUG: Iteration 2: [-1.  0.] => ...\n",
      "19-Feb-23 14:24:52 - hw1 - perceptron_epoch - DEBUG: Iteration 2:     ... => [-1.  0.]\n",
      "19-Feb-23 14:24:52 - hw1 - <module> - DEBUG: Epoch 2\n",
      "19-Feb-23 14:24:52 - hw1 - perceptron_epoch - DEBUG: Iteration 0: [-1.  0.] => ...\n",
      "19-Feb-23 14:24:52 - hw1 - perceptron_epoch - DEBUG: Iteration 0:     ... => [-1.  0.]\n",
      "19-Feb-23 14:24:52 - hw1 - perceptron_epoch - DEBUG: Iteration 1: [-1.  0.] => ...\n",
      "19-Feb-23 14:24:52 - hw1 - perceptron_epoch - DEBUG: Iteration 1:     ... => [-1.  0.]\n",
      "19-Feb-23 14:24:52 - hw1 - perceptron_epoch - DEBUG: Iteration 2: [-1.  0.] => ...\n",
      "19-Feb-23 14:24:52 - hw1 - perceptron_epoch - DEBUG: Iteration 2:     ... => [-1.  0.]\n",
      "19-Feb-23 14:24:52 - hw1 - <module> - DEBUG: Epoch 3\n",
      "19-Feb-23 14:24:52 - hw1 - perceptron_epoch - DEBUG: Iteration 0: [-1.  0.] => ...\n",
      "19-Feb-23 14:24:52 - hw1 - perceptron_epoch - DEBUG: Iteration 0:     ... => [-1.  0.]\n",
      "19-Feb-23 14:24:52 - hw1 - perceptron_epoch - DEBUG: Iteration 1: [-1.  0.] => ...\n",
      "19-Feb-23 14:24:52 - hw1 - perceptron_epoch - DEBUG: Iteration 1:     ... => [-1.  0.]\n",
      "19-Feb-23 14:24:52 - hw1 - perceptron_epoch - DEBUG: Iteration 2: [-1.  0.] => ...\n",
      "19-Feb-23 14:24:52 - hw1 - perceptron_epoch - DEBUG: Iteration 2:     ... => [-1.  0.]\n",
      "19-Feb-23 14:24:52 - hw1 - <module> - DEBUG: Epoch 4\n",
      "19-Feb-23 14:24:52 - hw1 - perceptron_epoch - DEBUG: Iteration 0: [-1.  0.] => ...\n",
      "19-Feb-23 14:24:52 - hw1 - perceptron_epoch - DEBUG: Iteration 0:     ... => [-1.  0.]\n",
      "19-Feb-23 14:24:52 - hw1 - perceptron_epoch - DEBUG: Iteration 1: [-1.  0.] => ...\n",
      "19-Feb-23 14:24:52 - hw1 - perceptron_epoch - DEBUG: Iteration 1:     ... => [-1.  0.]\n",
      "19-Feb-23 14:24:52 - hw1 - perceptron_epoch - DEBUG: Iteration 2: [-1.  0.] => ...\n",
      "19-Feb-23 14:24:52 - hw1 - perceptron_epoch - DEBUG: Iteration 2:     ... => [-1.  0.]\n",
      "19-Feb-23 14:24:52 - hw1 - <module> - DEBUG: Epoch 5\n",
      "19-Feb-23 14:24:52 - hw1 - perceptron_epoch - DEBUG: Iteration 0: [-1.  0.] => ...\n",
      "19-Feb-23 14:24:52 - hw1 - perceptron_epoch - DEBUG: Iteration 0:     ... => [-1.  0.]\n",
      "19-Feb-23 14:24:52 - hw1 - perceptron_epoch - DEBUG: Iteration 1: [-1.  0.] => ...\n",
      "19-Feb-23 14:24:52 - hw1 - perceptron_epoch - DEBUG: Iteration 1:     ... => [-1.  0.]\n",
      "19-Feb-23 14:24:52 - hw1 - perceptron_epoch - DEBUG: Iteration 2: [-1.  0.] => ...\n",
      "19-Feb-23 14:24:52 - hw1 - perceptron_epoch - DEBUG: Iteration 2:     ... => [-1.  0.]\n",
      "19-Feb-23 14:24:52 - hw1 - <module> - DEBUG: Epoch 6\n",
      "19-Feb-23 14:24:52 - hw1 - perceptron_epoch - DEBUG: Iteration 0: [-1.  0.] => ...\n",
      "19-Feb-23 14:24:52 - hw1 - perceptron_epoch - DEBUG: Iteration 0:     ... => [-1.  0.]\n",
      "19-Feb-23 14:24:52 - hw1 - perceptron_epoch - DEBUG: Iteration 1: [-1.  0.] => ...\n",
      "19-Feb-23 14:24:52 - hw1 - perceptron_epoch - DEBUG: Iteration 1:     ... => [-1.  0.]\n",
      "19-Feb-23 14:24:52 - hw1 - perceptron_epoch - DEBUG: Iteration 2: [-1.  0.] => ...\n",
      "19-Feb-23 14:24:52 - hw1 - perceptron_epoch - DEBUG: Iteration 2:     ... => [-1.  0.]\n",
      "19-Feb-23 14:24:52 - hw1 - <module> - DEBUG: Epoch 7\n",
      "19-Feb-23 14:24:52 - hw1 - perceptron_epoch - DEBUG: Iteration 0: [-1.  0.] => ...\n",
      "19-Feb-23 14:24:52 - hw1 - perceptron_epoch - DEBUG: Iteration 0:     ... => [-1.  0.]\n",
      "19-Feb-23 14:24:52 - hw1 - perceptron_epoch - DEBUG: Iteration 1: [-1.  0.] => ...\n",
      "19-Feb-23 14:24:52 - hw1 - perceptron_epoch - DEBUG: Iteration 1:     ... => [-1.  0.]\n",
      "19-Feb-23 14:24:52 - hw1 - perceptron_epoch - DEBUG: Iteration 2: [-1.  0.] => ...\n",
      "19-Feb-23 14:24:52 - hw1 - perceptron_epoch - DEBUG: Iteration 2:     ... => [-1.  0.]\n",
      "19-Feb-23 14:24:52 - hw1 - <module> - DEBUG: Epoch 8\n",
      "19-Feb-23 14:24:52 - hw1 - perceptron_epoch - DEBUG: Iteration 0: [-1.  0.] => ...\n",
      "19-Feb-23 14:24:52 - hw1 - perceptron_epoch - DEBUG: Iteration 0:     ... => [-1.  0.]\n",
      "19-Feb-23 14:24:52 - hw1 - perceptron_epoch - DEBUG: Iteration 1: [-1.  0.] => ...\n",
      "19-Feb-23 14:24:52 - hw1 - perceptron_epoch - DEBUG: Iteration 1:     ... => [-1.  0.]\n",
      "19-Feb-23 14:24:52 - hw1 - perceptron_epoch - DEBUG: Iteration 2: [-1.  0.] => ...\n",
      "19-Feb-23 14:24:52 - hw1 - perceptron_epoch - DEBUG: Iteration 2:     ... => [-1.  0.]\n",
      "19-Feb-23 14:24:52 - hw1 - <module> - DEBUG: Epoch 9\n",
      "19-Feb-23 14:24:52 - hw1 - perceptron_epoch - DEBUG: Iteration 0: [-1.  0.] => ...\n",
      "19-Feb-23 14:24:52 - hw1 - perceptron_epoch - DEBUG: Iteration 0:     ... => [-1.  0.]\n",
      "19-Feb-23 14:24:52 - hw1 - perceptron_epoch - DEBUG: Iteration 1: [-1.  0.] => ...\n",
      "19-Feb-23 14:24:52 - hw1 - perceptron_epoch - DEBUG: Iteration 1:     ... => [-1.  0.]\n",
      "19-Feb-23 14:24:52 - hw1 - perceptron_epoch - DEBUG: Iteration 2: [-1.  0.] => ...\n",
      "19-Feb-23 14:24:52 - hw1 - perceptron_epoch - DEBUG: Iteration 2:     ... => [-1.  0.]\n",
      "[-1.  0.]\n"
     ]
    }
   ],
   "source": [
    "theta = np.array([0.0, 0.0])\n",
    "for epoch in range(10):\n",
    "    logger.debug(f'Epoch {epoch}')\n",
    "    theta = perceptron_epoch(X_4, y_4, theta)\n",
    "print(theta)"
   ]
  },
  {
   "cell_type": "code",
   "execution_count": 13,
   "metadata": {},
   "outputs": [
    {
     "data": {
      "text/plain": [
       "array([-1., -1.])"
      ]
     },
     "execution_count": 13,
     "metadata": {},
     "output_type": "execute_result"
    }
   ],
   "source": [
    "perceptron_update(X[0], y[0], np.array([0.0, 0.0]))"
   ]
  },
  {
   "cell_type": "code",
   "execution_count": 14,
   "metadata": {},
   "outputs": [
    {
     "data": {
      "text/plain": [
       "array([-1.,  0.])"
      ]
     },
     "execution_count": 14,
     "metadata": {},
     "output_type": "execute_result"
    }
   ],
   "source": [
    "theta"
   ]
  },
  {
   "attachments": {},
   "cell_type": "markdown",
   "metadata": {},
   "source": [
    "pointNo coord       y    times_misclassified\n",
    "1\t    [-4, 2]     +1\t    1\n",
    "2\t    [-2, 1]\t    +1\t    0 (always correctly classified)\n",
    "3\t    [-1, -1]\t-1\t    2\n",
    "4\t    [2, 2]\t    -1\t    1\n",
    "5\t    [1, -2]\t    -1\t    0 (always correctly classified)"
   ]
  },
  {
   "cell_type": "code",
   "execution_count": 15,
   "metadata": {},
   "outputs": [
    {
     "name": "stdout",
     "output_type": "stream",
     "text": [
      "[[-4.  2.]\n",
      " [-2.  1.]\n",
      " [-1. -1.]\n",
      " [ 2.  2.]\n",
      " [ 1. -2.]]\n",
      "[ 1.  1. -1. -1. -1.]\n",
      "[1 0 2 1 0]\n"
     ]
    }
   ],
   "source": [
    "X_5 = np.array([\n",
    "    [-4, 2],\n",
    "    [-2, 1],\n",
    "    [-1, -1],\n",
    "    [2, 2],\n",
    "    [1, -2]\n",
    "], dtype=float)\n",
    "y_5 = np.array([1, 1, -1, -1, -1], dtype=float)\n",
    "misclass = np.array([1, 0, 2, 1, 0])\n",
    "print(X_5)\n",
    "print(y_5)\n",
    "print(misclass)"
   ]
  },
  {
   "cell_type": "code",
   "execution_count": 16,
   "metadata": {},
   "outputs": [
    {
     "data": {
      "image/png": "[encoded data removed]",
      "text/plain": [
       "<Figure size 640x480 with 1 Axes>"
      ]
     },
     "metadata": {},
     "output_type": "display_data"
    }
   ],
   "source": [
    "plt.scatter(X_5[:, 0], X_5[:, 1], c=y_5)\n",
    "for i in range(X_5.shape[0]):\n",
    "    plt.annotate('x'+str(i+1), xy=X_5[i]+0.05)\n",
    "ax = plt.gca()\n",
    "ax.spines['left'].set_position(('data', 0))\n",
    "ax.spines['bottom'].set_position(('data', 0))\n",
    "ax.spines['top'].set_visible(False)\n",
    "ax.spines['right'].set_visible(False)"
   ]
  },
  {
   "cell_type": "code",
   "execution_count": 17,
   "metadata": {},
   "outputs": [
    {
     "data": {
      "text/plain": [
       "array([[-4.,  2.],\n",
       "       [-0.,  0.],\n",
       "       [ 2.,  2.],\n",
       "       [-2., -2.],\n",
       "       [-0.,  0.]])"
      ]
     },
     "execution_count": 17,
     "metadata": {},
     "output_type": "execute_result"
    }
   ],
   "source": [
    "theta_changes_made = X_5 * y_5.reshape(-1, 1) * misclass.reshape(-1, 1)\n",
    "theta_changes_made"
   ]
  },
  {
   "cell_type": "code",
   "execution_count": 18,
   "metadata": {},
   "outputs": [
    {
     "data": {
      "text/plain": [
       "-2.0"
      ]
     },
     "execution_count": 18,
     "metadata": {},
     "output_type": "execute_result"
    }
   ],
   "source": [
    "theta0_changes_made = y_5.dot(misclass)\n",
    "theta0_changes_made"
   ]
  },
  {
   "cell_type": "code",
   "execution_count": 19,
   "metadata": {},
   "outputs": [],
   "source": [
    "X_6 = np.array([\n",
    "    [-1, 1],\n",
    "    [1, -1],\n",
    "    [1, 1],\n",
    "    [2, 2]\n",
    "])\n",
    "y_6 = np.array([1, 1, -1, -1])"
   ]
  },
  {
   "cell_type": "code",
   "execution_count": 20,
   "metadata": {},
   "outputs": [
    {
     "data": {
      "image/png": "[encoded data removed]",
      "text/plain": [
       "<Figure size 640x480 with 1 Axes>"
      ]
     },
     "metadata": {},
     "output_type": "display_data"
    }
   ],
   "source": [
    "plt.scatter(X_6[:, 0], X_6[:, 1], c=y_6)\n",
    "for i in range(X_6.shape[0]):\n",
    "    plt.annotate('x'+str(i+1), xy=X_6[i]+0.05)\n",
    "ax = plt.gca()\n",
    "ax.spines['left'].set_position(('data', 0))\n",
    "ax.spines['bottom'].set_position(('data', 0))\n",
    "ax.spines['top'].set_visible(False)\n",
    "ax.spines['right'].set_visible(False)"
   ]
  },
  {
   "cell_type": "code",
   "execution_count": 21,
   "metadata": {},
   "outputs": [],
   "source": [
    "def get_circle_y(x, r, a, b):\n",
    "    cond = (r**2 - (x+a)**2) >= 0\n",
    "    if cond:\n",
    "        return np.sqrt(r**2 - (x+a)**2)-b\n",
    "    else:\n",
    "        return np.nan"
   ]
  },
  {
   "cell_type": "code",
   "execution_count": 22,
   "metadata": {},
   "outputs": [
    {
     "data": {
      "text/plain": [
       "array([-2. , -1.5, -1. , -0.5,  0. ,  0.5,  1. ,  1.5,  2. ])"
      ]
     },
     "execution_count": 22,
     "metadata": {},
     "output_type": "execute_result"
    }
   ],
   "source": [
    "circle_x = np.arange(-2, 2.1, 0.5)\n",
    "circle_x"
   ]
  },
  {
   "cell_type": "code",
   "execution_count": 23,
   "metadata": {},
   "outputs": [
    {
     "data": {
      "text/plain": [
       "array([-2. , -1.5, -1. , -0.5,  0. ,  0.5,  1. ,  1.5,  2. , -2. , -1.5,\n",
       "       -1. , -0.5,  0. ,  0.5,  1. ,  1.5,  2. ])"
      ]
     },
     "execution_count": 23,
     "metadata": {},
     "output_type": "execute_result"
    }
   ],
   "source": [
    "np.concatenate([circle_x, circle_x])"
   ]
  },
  {
   "cell_type": "code",
   "execution_count": 24,
   "metadata": {},
   "outputs": [
    {
     "data": {
      "text/plain": [
       "<matplotlib.collections.PathCollection at 0x1fbcdb8f610>"
      ]
     },
     "execution_count": 24,
     "metadata": {},
     "output_type": "execute_result"
    },
    {
     "data": {
      "image/png": "[encoded data removed]",
      "text/plain": [
       "<Figure size 800x800 with 1 Axes>"
      ]
     },
     "metadata": {},
     "output_type": "display_data"
    }
   ],
   "source": [
    "r = 12\n",
    "a = 8\n",
    "b = 8\n",
    "circle_x = np.arange(-8, 8.1, 0.5)\n",
    "circle_y = np.array([get_circle_y(x, r, a, b) for x in circle_x])\n",
    "#circle_x = np.concatenate([circle_x, circle_x])\n",
    "#circle_y = np.concatenate([circle_y, -circle_y])\n",
    "\n",
    "fig, ax = plt.subplots(1, 1, figsize=(8, 8))\n",
    "ax.scatter(X_6[:, 0], X_6[:, 1], c=y_6)\n",
    "for i in range(X_6.shape[0]):\n",
    "    ax.annotate('x'+str(i+1), xy=X_6[i]+0.05)\n",
    "ax.spines['left'].set_position(('data', 0))\n",
    "ax.spines['bottom'].set_position(('data', 0))\n",
    "ax.spines['top'].set_visible(False)\n",
    "ax.spines['right'].set_visible(False)\n",
    "ax.set_xbound(lower=-10, upper=10)\n",
    "ax.set_ybound(lower=-10, upper=10)\n",
    "ax.scatter(circle_x, circle_y, s=3)\n",
    "ax.scatter(np.arange(-4, 4.1, 0.2), -np.arange(-4, 4.1, 0.2)+1, s=3)"
   ]
  },
  {
   "cell_type": "code",
   "execution_count": 25,
   "metadata": {},
   "outputs": [
    {
     "data": {
      "text/plain": [
       "array([[0., 0.],\n",
       "       [0., 0.]])"
      ]
     },
     "execution_count": 25,
     "metadata": {},
     "output_type": "execute_result"
    }
   ],
   "source": [
    "d = 2\n",
    "f_x = lambda x: np.cos(np.pi * x)\n",
    "X = np.zeros(shape=(d, d))\n",
    "X"
   ]
  },
  {
   "cell_type": "code",
   "execution_count": 26,
   "metadata": {},
   "outputs": [
    {
     "data": {
      "text/plain": [
       "array([[-1.,  0.],\n",
       "       [ 0.,  1.]])"
      ]
     },
     "execution_count": 26,
     "metadata": {},
     "output_type": "execute_result"
    }
   ],
   "source": [
    "for i in range(d):\n",
    "    for j in range(d):\n",
    "        if i == j:\n",
    "            X[i, j] = f_x(i+1)\n",
    "X"
   ]
  },
  {
   "cell_type": "code",
   "execution_count": 27,
   "metadata": {},
   "outputs": [],
   "source": [
    "y = np.array([1.0, 1.0])"
   ]
  },
  {
   "cell_type": "code",
   "execution_count": 28,
   "metadata": {},
   "outputs": [
    {
     "name": "stdout",
     "output_type": "stream",
     "text": [
      "19-Feb-23 14:30:55 - hw1 - <module> - DEBUG: Epoch 0\n",
      "19-Feb-23 14:30:55 - hw1 - perceptron_epoch - DEBUG: Iteration 0: [0. 0.] => ...\n",
      "19-Feb-23 14:30:55 - hw1 - perceptron_epoch - DEBUG: Iteration 0:     ... => [-1.  0.]\n",
      "19-Feb-23 14:30:55 - hw1 - perceptron_epoch - DEBUG: Iteration 1: [-1.  0.] => ...\n",
      "19-Feb-23 14:30:55 - hw1 - perceptron_epoch - DEBUG: Iteration 1:     ... => [-1.  1.]\n",
      "19-Feb-23 14:30:55 - hw1 - <module> - DEBUG: Epoch 1\n",
      "19-Feb-23 14:30:55 - hw1 - perceptron_epoch - DEBUG: Iteration 0: [-1.  1.] => ...\n",
      "19-Feb-23 14:30:55 - hw1 - perceptron_epoch - DEBUG: Iteration 0:     ... => [-1.  1.]\n",
      "19-Feb-23 14:30:55 - hw1 - perceptron_epoch - DEBUG: Iteration 1: [-1.  1.] => ...\n",
      "19-Feb-23 14:30:55 - hw1 - perceptron_epoch - DEBUG: Iteration 1:     ... => [-1.  1.]\n",
      "19-Feb-23 14:30:55 - hw1 - <module> - DEBUG: Epoch 2\n",
      "19-Feb-23 14:30:55 - hw1 - perceptron_epoch - DEBUG: Iteration 0: [-1.  1.] => ...\n",
      "19-Feb-23 14:30:55 - hw1 - perceptron_epoch - DEBUG: Iteration 0:     ... => [-1.  1.]\n",
      "19-Feb-23 14:30:55 - hw1 - perceptron_epoch - DEBUG: Iteration 1: [-1.  1.] => ...\n",
      "19-Feb-23 14:30:55 - hw1 - perceptron_epoch - DEBUG: Iteration 1:     ... => [-1.  1.]\n",
      "19-Feb-23 14:30:55 - hw1 - <module> - DEBUG: Epoch 3\n",
      "19-Feb-23 14:30:55 - hw1 - perceptron_epoch - DEBUG: Iteration 0: [-1.  1.] => ...\n",
      "19-Feb-23 14:30:55 - hw1 - perceptron_epoch - DEBUG: Iteration 0:     ... => [-1.  1.]\n",
      "19-Feb-23 14:30:55 - hw1 - perceptron_epoch - DEBUG: Iteration 1: [-1.  1.] => ...\n",
      "19-Feb-23 14:30:55 - hw1 - perceptron_epoch - DEBUG: Iteration 1:     ... => [-1.  1.]\n",
      "19-Feb-23 14:30:55 - hw1 - <module> - DEBUG: Epoch 4\n",
      "19-Feb-23 14:30:55 - hw1 - perceptron_epoch - DEBUG: Iteration 0: [-1.  1.] => ...\n",
      "19-Feb-23 14:30:55 - hw1 - perceptron_epoch - DEBUG: Iteration 0:     ... => [-1.  1.]\n",
      "19-Feb-23 14:30:55 - hw1 - perceptron_epoch - DEBUG: Iteration 1: [-1.  1.] => ...\n",
      "19-Feb-23 14:30:55 - hw1 - perceptron_epoch - DEBUG: Iteration 1:     ... => [-1.  1.]\n",
      "19-Feb-23 14:30:55 - hw1 - <module> - DEBUG: Epoch 5\n",
      "19-Feb-23 14:30:55 - hw1 - perceptron_epoch - DEBUG: Iteration 0: [-1.  1.] => ...\n",
      "19-Feb-23 14:30:55 - hw1 - perceptron_epoch - DEBUG: Iteration 0:     ... => [-1.  1.]\n",
      "19-Feb-23 14:30:55 - hw1 - perceptron_epoch - DEBUG: Iteration 1: [-1.  1.] => ...\n",
      "19-Feb-23 14:30:55 - hw1 - perceptron_epoch - DEBUG: Iteration 1:     ... => [-1.  1.]\n",
      "19-Feb-23 14:30:55 - hw1 - <module> - DEBUG: Epoch 6\n",
      "19-Feb-23 14:30:55 - hw1 - perceptron_epoch - DEBUG: Iteration 0: [-1.  1.] => ...\n",
      "19-Feb-23 14:30:55 - hw1 - perceptron_epoch - DEBUG: Iteration 0:     ... => [-1.  1.]\n",
      "19-Feb-23 14:30:55 - hw1 - perceptron_epoch - DEBUG: Iteration 1: [-1.  1.] => ...\n",
      "19-Feb-23 14:30:55 - hw1 - perceptron_epoch - DEBUG: Iteration 1:     ... => [-1.  1.]\n",
      "19-Feb-23 14:30:55 - hw1 - <module> - DEBUG: Epoch 7\n",
      "19-Feb-23 14:30:55 - hw1 - perceptron_epoch - DEBUG: Iteration 0: [-1.  1.] => ...\n",
      "19-Feb-23 14:30:55 - hw1 - perceptron_epoch - DEBUG: Iteration 0:     ... => [-1.  1.]\n",
      "19-Feb-23 14:30:55 - hw1 - perceptron_epoch - DEBUG: Iteration 1: [-1.  1.] => ...\n",
      "19-Feb-23 14:30:55 - hw1 - perceptron_epoch - DEBUG: Iteration 1:     ... => [-1.  1.]\n",
      "19-Feb-23 14:30:55 - hw1 - <module> - DEBUG: Epoch 8\n",
      "19-Feb-23 14:30:55 - hw1 - perceptron_epoch - DEBUG: Iteration 0: [-1.  1.] => ...\n",
      "19-Feb-23 14:30:55 - hw1 - perceptron_epoch - DEBUG: Iteration 0:     ... => [-1.  1.]\n",
      "19-Feb-23 14:30:55 - hw1 - perceptron_epoch - DEBUG: Iteration 1: [-1.  1.] => ...\n",
      "19-Feb-23 14:30:55 - hw1 - perceptron_epoch - DEBUG: Iteration 1:     ... => [-1.  1.]\n",
      "19-Feb-23 14:30:55 - hw1 - <module> - DEBUG: Epoch 9\n",
      "19-Feb-23 14:30:55 - hw1 - perceptron_epoch - DEBUG: Iteration 0: [-1.  1.] => ...\n",
      "19-Feb-23 14:30:55 - hw1 - perceptron_epoch - DEBUG: Iteration 0:     ... => [-1.  1.]\n",
      "19-Feb-23 14:30:55 - hw1 - perceptron_epoch - DEBUG: Iteration 1: [-1.  1.] => ...\n",
      "19-Feb-23 14:30:55 - hw1 - perceptron_epoch - DEBUG: Iteration 1:     ... => [-1.  1.]\n",
      "[-1.  1.]\n"
     ]
    }
   ],
   "source": [
    "theta = np.array([0.0, 0.0])\n",
    "for epoch in range(10):\n",
    "    logger.debug(f'Epoch {epoch}')\n",
    "    theta = perceptron_epoch(X, y, theta)\n",
    "print(theta)"
   ]
  },
  {
   "cell_type": "code",
   "execution_count": null,
   "metadata": {},
   "outputs": [],
   "source": []
  }
 ],
 "metadata": {
  "kernelspec": {
   "display_name": "dsml",
   "language": "python",
   "name": "python3"
  },
  "language_info": {
   "codemirror_mode": {
    "name": "ipython",
    "version": 3
   },
   "file_extension": ".py",
   "mimetype": "text/x-python",
   "name": "python",
   "nbconvert_exporter": "python",
   "pygments_lexer": "ipython3",
   "version": "3.10.8"
  },
  "orig_nbformat": 4,
  "vscode": {
   "interpreter": {
    "hash": "e1f381e82303d84d9328d36fb70b76a5df1bb1dfb90f8f346f754b4310717ab0"
   }
  }
 },
 "nbformat": 4,
 "nbformat_minor": 2
}
