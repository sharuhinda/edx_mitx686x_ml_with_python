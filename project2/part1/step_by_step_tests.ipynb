{
 "cells": [
  {
   "cell_type": "code",
   "execution_count": 1,
   "metadata": {},
   "outputs": [
    {
     "name": "stdout",
     "output_type": "stream",
     "text": [
      "numpy version: 1.23.5\n"
     ]
    }
   ],
   "source": [
    "import numpy as np\n",
    "print('numpy version:', np.__version__)\n"
   ]
  },
  {
   "cell_type": "code",
   "execution_count": 2,
   "metadata": {},
   "outputs": [],
   "source": [
    "from linear_regression import closed_form"
   ]
  },
  {
   "cell_type": "code",
   "execution_count": 3,
   "metadata": {},
   "outputs": [],
   "source": [
    "lambda_factor = 0.2"
   ]
  },
  {
   "cell_type": "code",
   "execution_count": 4,
   "metadata": {},
   "outputs": [
    {
     "data": {
      "text/plain": [
       "array([[2, 9, 3, 3, 6],\n",
       "       [5, 7, 8, 9, 8],\n",
       "       [8, 5, 5, 9, 1],\n",
       "       [6, 8, 9, 6, 7]])"
      ]
     },
     "execution_count": 4,
     "metadata": {},
     "output_type": "execute_result"
    }
   ],
   "source": [
    "n = 4 # number of observations\n",
    "d = 5 # number of dimensions\n",
    "X = np.random.randint(1, 10, size=n*d).reshape(n, d)\n",
    "X"
   ]
  },
  {
   "cell_type": "code",
   "execution_count": 5,
   "metadata": {},
   "outputs": [
    {
     "data": {
      "text/plain": [
       "array([[1., 2., 9., 3., 3., 6.],\n",
       "       [1., 5., 7., 8., 9., 8.],\n",
       "       [1., 8., 5., 5., 9., 1.],\n",
       "       [1., 6., 8., 9., 6., 7.]])"
      ]
     },
     "execution_count": 5,
     "metadata": {},
     "output_type": "execute_result"
    }
   ],
   "source": [
    "X = np.hstack((np.ones(n).reshape(-1, 1), X))\n",
    "X"
   ]
  },
  {
   "cell_type": "code",
   "execution_count": 6,
   "metadata": {},
   "outputs": [
    {
     "data": {
      "text/plain": [
       "array([[6],\n",
       "       [2],\n",
       "       [4],\n",
       "       [7]])"
      ]
     },
     "execution_count": 6,
     "metadata": {},
     "output_type": "execute_result"
    }
   ],
   "source": [
    "Y = np.random.randint(1, 10, size=n).reshape(-1, 1)\n",
    "Y"
   ]
  },
  {
   "cell_type": "code",
   "execution_count": 7,
   "metadata": {},
   "outputs": [
    {
     "data": {
      "text/plain": [
       "array([[  4.,  21.,  29.,  25.,  27.,  22.],\n",
       "       [ 21., 129., 141., 140., 159., 102.],\n",
       "       [ 29., 141., 219., 180., 183., 171.],\n",
       "       [ 25., 140., 180., 179., 180., 150.],\n",
       "       [ 27., 159., 183., 180., 207., 141.],\n",
       "       [ 22., 102., 171., 150., 141., 150.]])"
      ]
     },
     "execution_count": 7,
     "metadata": {},
     "output_type": "execute_result"
    }
   ],
   "source": [
    "X.T @ X"
   ]
  },
  {
   "cell_type": "code",
   "execution_count": 8,
   "metadata": {},
   "outputs": [
    {
     "data": {
      "text/plain": [
       "array([[0.2, 0. , 0. , 0. , 0. , 0. ],\n",
       "       [0. , 0.2, 0. , 0. , 0. , 0. ],\n",
       "       [0. , 0. , 0.2, 0. , 0. , 0. ],\n",
       "       [0. , 0. , 0. , 0.2, 0. , 0. ],\n",
       "       [0. , 0. , 0. , 0. , 0.2, 0. ],\n",
       "       [0. , 0. , 0. , 0. , 0. , 0.2]])"
      ]
     },
     "execution_count": 8,
     "metadata": {},
     "output_type": "execute_result"
    }
   ],
   "source": [
    "lambda_factor * np.identity(d+1)"
   ]
  },
  {
   "cell_type": "code",
   "execution_count": 9,
   "metadata": {},
   "outputs": [
    {
     "data": {
      "text/plain": [
       "array([[  4.2,  21. ,  29. ,  25. ,  27. ,  22. ],\n",
       "       [ 21. , 129.2, 141. , 140. , 159. , 102. ],\n",
       "       [ 29. , 141. , 219.2, 180. , 183. , 171. ],\n",
       "       [ 25. , 140. , 180. , 179.2, 180. , 150. ],\n",
       "       [ 27. , 159. , 183. , 180. , 207.2, 141. ],\n",
       "       [ 22. , 102. , 171. , 150. , 141. , 150.2]])"
      ]
     },
     "execution_count": 9,
     "metadata": {},
     "output_type": "execute_result"
    }
   ],
   "source": [
    "z = X.T @ X + lambda_factor * np.identity(d+1)\n",
    "z"
   ]
  },
  {
   "cell_type": "code",
   "execution_count": 10,
   "metadata": {},
   "outputs": [
    {
     "data": {
      "text/plain": [
       "array([[ 4.93396044e+00, -1.87157610e-01, -4.87900377e-01,\n",
       "         1.29809351e-01, -1.81770407e-01,  8.79731244e-04],\n",
       "       [-1.87157610e-01,  1.99146153e+00, -8.33344327e-01,\n",
       "        -1.36977303e+00, -6.99663801e-01,  1.64852745e+00],\n",
       "       [-4.87900377e-01, -8.33344327e-01,  4.72605094e-01,\n",
       "         5.89858151e-01,  2.94876164e-01, -7.66556612e-01],\n",
       "       [ 1.29809351e-01, -1.36977303e+00,  5.89858151e-01,\n",
       "         1.05958755e+00,  4.14659224e-01, -1.20778817e+00],\n",
       "       [-1.81770407e-01, -6.99663801e-01,  2.94876164e-01,\n",
       "         4.14659224e-01,  3.14409215e-01, -5.43207392e-01],\n",
       "       [ 8.79731244e-04,  1.64852745e+00, -7.66556612e-01,\n",
       "        -1.20778817e+00, -5.43207392e-01,  1.47584883e+00]])"
      ]
     },
     "execution_count": 10,
     "metadata": {},
     "output_type": "execute_result"
    }
   ],
   "source": [
    "z_1 = np.linalg.inv(z)\n",
    "z_1"
   ]
  },
  {
   "cell_type": "code",
   "execution_count": 11,
   "metadata": {},
   "outputs": [
    {
     "data": {
      "text/plain": [
       "array([[ 1.00000000e+00,  2.66453526e-15, -7.54951657e-15,\n",
       "        -7.54951657e-15, -4.44089210e-16,  9.76996262e-15],\n",
       "       [-1.17230444e-14,  1.00000000e+00, -2.17603713e-14,\n",
       "        -1.82076576e-14,  1.55431223e-14,  1.68753900e-14],\n",
       "       [ 6.24424557e-15,  4.88498131e-15,  1.00000000e+00,\n",
       "        -1.08801856e-14,  2.37587727e-14,  1.90958360e-14],\n",
       "       [-5.05997154e-15, -4.70734562e-14, -1.11022302e-14,\n",
       "         1.00000000e+00,  3.33066907e-14,  9.76996262e-15],\n",
       "       [ 9.97357578e-16, -3.68594044e-14, -2.46469511e-14,\n",
       "         1.99840144e-15,  1.00000000e+00,  5.77315973e-15],\n",
       "       [-5.57371695e-16, -2.30936615e-14, -1.28235870e-14,\n",
       "        -1.17153499e-14,  2.53157980e-14,  1.00000000e+00]])"
      ]
     },
     "execution_count": 11,
     "metadata": {},
     "output_type": "execute_result"
    }
   ],
   "source": [
    "z @ z_1"
   ]
  },
  {
   "cell_type": "code",
   "execution_count": 12,
   "metadata": {},
   "outputs": [
    {
     "data": {
      "text/plain": [
       "array([[ 0.07870306],\n",
       "       [ 0.69299265],\n",
       "       [ 0.92481301],\n",
       "       [ 0.33287719],\n",
       "       [-0.83819148],\n",
       "       [-0.38153344]])"
      ]
     },
     "execution_count": 12,
     "metadata": {},
     "output_type": "execute_result"
    }
   ],
   "source": [
    "z_1 @ X.T @ Y"
   ]
  },
  {
   "cell_type": "code",
   "execution_count": 13,
   "metadata": {},
   "outputs": [
    {
     "data": {
      "text/plain": [
       "array([ 0.07870306,  0.69299265,  0.92481301,  0.33287719, -0.83819148,\n",
       "       -0.38153344])"
      ]
     },
     "execution_count": 13,
     "metadata": {},
     "output_type": "execute_result"
    }
   ],
   "source": [
    "closed_form(X, Y, lambda_factor)"
   ]
  },
  {
   "cell_type": "code",
   "execution_count": 14,
   "metadata": {},
   "outputs": [
    {
     "data": {
      "text/plain": [
       "array([[1., 2., 9., 3., 3., 6.],\n",
       "       [1., 5., 7., 8., 9., 8.],\n",
       "       [1., 8., 5., 5., 9., 1.],\n",
       "       [1., 6., 8., 9., 6., 7.]])"
      ]
     },
     "execution_count": 14,
     "metadata": {},
     "output_type": "execute_result"
    }
   ],
   "source": [
    "X"
   ]
  },
  {
   "cell_type": "code",
   "execution_count": 15,
   "metadata": {},
   "outputs": [
    {
     "name": "stdout",
     "output_type": "stream",
     "text": [
      "9.0\n",
      "[1. 8. 9. 9. 9. 8.]\n",
      "[9. 9. 9. 9.]\n"
     ]
    }
   ],
   "source": [
    "print(X.max()) # max from the whole matrix\n",
    "print(X.max(axis=0)) # max by columns (for each column)\n",
    "print(X.max(axis=1)) # max by rows (for each row)"
   ]
  },
  {
   "cell_type": "code",
   "execution_count": 16,
   "metadata": {},
   "outputs": [
    {
     "data": {
      "text/plain": [
       "array([1., 8., 9., 9., 9., 8.])"
      ]
     },
     "execution_count": 16,
     "metadata": {},
     "output_type": "execute_result"
    }
   ],
   "source": [
    "cs = X.max(axis=0)\n",
    "cs"
   ]
  },
  {
   "cell_type": "code",
   "execution_count": 17,
   "metadata": {},
   "outputs": [
    {
     "data": {
      "text/plain": [
       "array([[ 0., -6.,  0., -6., -6., -2.],\n",
       "       [ 0., -3., -2., -1.,  0.,  0.],\n",
       "       [ 0.,  0., -4., -4.,  0., -7.],\n",
       "       [ 0., -2., -1.,  0., -3., -1.]])"
      ]
     },
     "execution_count": 17,
     "metadata": {},
     "output_type": "execute_result"
    }
   ],
   "source": [
    "X - cs"
   ]
  },
  {
   "cell_type": "code",
   "execution_count": 18,
   "metadata": {},
   "outputs": [
    {
     "data": {
      "text/plain": [
       "array([[1.00000000e+00, 2.47875218e-03, 1.00000000e+00, 2.47875218e-03,\n",
       "        2.47875218e-03, 1.35335283e-01],\n",
       "       [1.00000000e+00, 4.97870684e-02, 1.35335283e-01, 3.67879441e-01,\n",
       "        1.00000000e+00, 1.00000000e+00],\n",
       "       [1.00000000e+00, 1.00000000e+00, 1.83156389e-02, 1.83156389e-02,\n",
       "        1.00000000e+00, 9.11881966e-04],\n",
       "       [1.00000000e+00, 1.35335283e-01, 3.67879441e-01, 1.00000000e+00,\n",
       "        4.97870684e-02, 3.67879441e-01]])"
      ]
     },
     "execution_count": 18,
     "metadata": {},
     "output_type": "execute_result"
    }
   ],
   "source": [
    "predictions = np.exp(X-cs)\n",
    "predictions"
   ]
  },
  {
   "cell_type": "code",
   "execution_count": 19,
   "metadata": {},
   "outputs": [
    {
     "data": {
      "text/plain": [
       "array([4.        , 1.1876011 , 1.52153036, 1.38867383, 2.05226582,\n",
       "       1.50412661])"
      ]
     },
     "execution_count": 19,
     "metadata": {},
     "output_type": "execute_result"
    }
   ],
   "source": [
    "predictions.sum(axis=0)"
   ]
  },
  {
   "cell_type": "code",
   "execution_count": 20,
   "metadata": {},
   "outputs": [
    {
     "data": {
      "text/plain": [
       "array([[2.50000000e-01, 2.08719255e-03, 6.57233023e-01, 1.78497795e-03,\n",
       "        1.20781243e-03, 8.99759918e-02],\n",
       "       [2.50000000e-01, 4.19223830e-02, 8.89468173e-02, 2.64914217e-01,\n",
       "        4.87266313e-01, 6.64837651e-01],\n",
       "       [2.50000000e-01, 8.42033572e-01, 1.20376427e-02, 1.31893022e-02,\n",
       "        4.87266313e-01, 6.06253464e-04],\n",
       "       [2.50000000e-01, 1.13956852e-01, 2.41782517e-01, 7.20111503e-01,\n",
       "        2.42595612e-02, 2.44580104e-01]])"
      ]
     },
     "execution_count": 20,
     "metadata": {},
     "output_type": "execute_result"
    }
   ],
   "source": [
    "predictions / predictions.sum(axis=0)"
   ]
  },
  {
   "cell_type": "code",
   "execution_count": 21,
   "metadata": {},
   "outputs": [
    {
     "data": {
      "text/plain": [
       "array([1., 1., 1., 1., 1., 1.])"
      ]
     },
     "execution_count": 21,
     "metadata": {},
     "output_type": "execute_result"
    }
   ],
   "source": [
    "(predictions / predictions.sum(axis=0)).sum(axis=0)"
   ]
  },
  {
   "cell_type": "code",
   "execution_count": 22,
   "metadata": {},
   "outputs": [
    {
     "data": {
      "text/plain": [
       "array([[1., 2., 9., 3., 3., 6.],\n",
       "       [1., 5., 7., 8., 9., 8.],\n",
       "       [1., 8., 5., 5., 9., 1.],\n",
       "       [1., 6., 8., 9., 6., 7.]])"
      ]
     },
     "execution_count": 22,
     "metadata": {},
     "output_type": "execute_result"
    }
   ],
   "source": [
    "X"
   ]
  },
  {
   "attachments": {},
   "cell_type": "markdown",
   "metadata": {},
   "source": [
    "Here I want to find the way to get fast and accurate implementation of checking the condition $y^{(i)} == j$ when applying this condition to calculate the following cost function:  \n",
    "$$\n",
    "j(\\theta) = -\\frac{1}{n}[\\sum_{i=1}^n \\sum_{j=0}^{k-1}{[[y^{(i)} == j]]\\ln{\\frac{e^{\\theta_j x^{(i)} / \\tau}}{\\sum_{l=0}^{k-1}{e^{\\theta_l x^{(i)} / \\tau}}}}}] + \\frac{\\lambda}{2} \\sum_{j=0}^{k-1} \\sum_{i=0}^{d-1}{\\theta_{ji}^2}\n",
    "$$"
   ]
  },
  {
   "attachments": {},
   "cell_type": "markdown",
   "metadata": {},
   "source": [
    "So I have Y vector where $y_i$ is the number of class $y_i$ belongs to., And I need matrix of shape (k, n) with 1s in places where y_i is equal to row number., Number of rows of this matrix should be equal to number of classes possible and number of columns should be equal to number of observations (samples)"
   ]
  },
  {
   "cell_type": "code",
   "execution_count": 23,
   "metadata": {},
   "outputs": [
    {
     "data": {
      "text/plain": [
       "array([6, 2, 4, 7])"
      ]
     },
     "execution_count": 23,
     "metadata": {},
     "output_type": "execute_result"
    }
   ],
   "source": [
    "Y.reshape(-1,)"
   ]
  },
  {
   "cell_type": "code",
   "execution_count": 24,
   "metadata": {},
   "outputs": [
    {
     "data": {
      "text/plain": [
       "array([[0., 0., 0., 0.],\n",
       "       [0., 0., 0., 0.],\n",
       "       [0., 0., 0., 0.],\n",
       "       [0., 0., 0., 0.],\n",
       "       [0., 0., 0., 0.],\n",
       "       [0., 0., 0., 0.],\n",
       "       [0., 0., 0., 0.],\n",
       "       [0., 0., 0., 0.],\n",
       "       [0., 0., 0., 0.],\n",
       "       [0., 0., 0., 0.]])"
      ]
     },
     "execution_count": 24,
     "metadata": {},
     "output_type": "execute_result"
    }
   ],
   "source": [
    "num_classes = 10 # from 0 to 9\n",
    "a = np.zeros(shape=(num_classes, len(Y)))\n",
    "a"
   ]
  },
  {
   "cell_type": "code",
   "execution_count": 25,
   "metadata": {},
   "outputs": [
    {
     "data": {
      "text/plain": [
       "array([[0, 0, 0, 0],\n",
       "       [0, 0, 0, 0],\n",
       "       [0, 1, 0, 0],\n",
       "       [0, 0, 0, 0],\n",
       "       [0, 0, 1, 0],\n",
       "       [0, 0, 0, 0],\n",
       "       [1, 0, 0, 0],\n",
       "       [0, 0, 0, 1],\n",
       "       [0, 0, 0, 0],\n",
       "       [0, 0, 0, 0]])"
      ]
     },
     "execution_count": 25,
     "metadata": {},
     "output_type": "execute_result"
    }
   ],
   "source": [
    "np.array([1 if Y.reshape(-1,)[j] == i else 0 for i in range(a.shape[0]) for j in range(a.shape[1])]).reshape(num_classes, len(Y))"
   ]
  },
  {
   "cell_type": "code",
   "execution_count": 26,
   "metadata": {},
   "outputs": [
    {
     "data": {
      "text/plain": [
       "array([[0., 0., 0., 0.],\n",
       "       [0., 0., 0., 0.],\n",
       "       [0., 1., 0., 0.],\n",
       "       [0., 0., 0., 0.],\n",
       "       [0., 0., 1., 0.],\n",
       "       [0., 0., 0., 0.],\n",
       "       [1., 0., 0., 0.],\n",
       "       [0., 0., 0., 1.],\n",
       "       [0., 0., 0., 0.],\n",
       "       [0., 0., 0., 0.]])"
      ]
     },
     "execution_count": 26,
     "metadata": {},
     "output_type": "execute_result"
    }
   ],
   "source": [
    "for j in range(len(Y)):\n",
    "    a[Y.reshape(-1,)[j], j] = 1\n",
    "a"
   ]
  },
  {
   "attachments": {},
   "cell_type": "markdown",
   "metadata": {},
   "source": [
    "Debugging output of loss function"
   ]
  },
  {
   "cell_type": "code",
   "execution_count": 27,
   "metadata": {},
   "outputs": [],
   "source": [
    "from softmax import *"
   ]
  },
  {
   "cell_type": "code",
   "execution_count": 28,
   "metadata": {},
   "outputs": [],
   "source": [
    "X = np.array([[ 1., 25., 59., 55., 92., 69., 93., 18., 53., 27., 22.],\n",
    "            [ 1., 46., 98., 46., 91., 21., 70., 37., 74.,  6., 46.],\n",
    "            [ 1., 59., 95., 73., 36.,  1., 96., 48., 53.,  6., 72.],\n",
    "            [ 1., 42., 56., 37., 46., 46., 69., 86., 85., 28.,  4.],\n",
    "            [ 1., 81., 21., 45., 56., 77., 88., 10., 74., 83., 74.],\n",
    "            [ 1., 15., 28., 65., 92., 66., 94., 56., 37., 67., 29.],\n",
    "            [ 1., 79., 80., 77., 73., 63., 76., 25., 60., 68.,  7.],\n",
    "            [ 1., 44., 31., 95., 63., 91.,  8., 41., 59., 86., 57.],\n",
    "            [ 1., 11., 38.,  4., 84.,  8., 66., 19., 67., 33., 74.],\n",
    "            [ 1., 19., 24., 13., 93., 10., 36., 15., 15., 72., 14.]])\n",
    "theta = np.array([[0., 0., 0., 0., 0., 0., 0., 0., 0., 0., 0.],\n",
    "                [0., 0., 0., 0., 0., 0., 0., 0., 0., 0., 0.],\n",
    "                [0., 0., 0., 0., 0., 0., 0., 0., 0., 0., 0.],\n",
    "                [0., 0., 0., 0., 0., 0., 0., 0., 0., 0., 0.],\n",
    "                [0., 0., 0., 0., 0., 0., 0., 0., 0., 0., 0.],\n",
    "                [0., 0., 0., 0., 0., 0., 0., 0., 0., 0., 0.],\n",
    "                [0., 0., 0., 0., 0., 0., 0., 0., 0., 0., 0.],\n",
    "                [0., 0., 0., 0., 0., 0., 0., 0., 0., 0., 0.],\n",
    "                [0., 0., 0., 0., 0., 0., 0., 0., 0., 0., 0.],\n",
    "                [0., 0., 0., 0., 0., 0., 0., 0., 0., 0., 0.]])\n",
    "temp_parameter = 1.0\n",
    "lambda_factor = 0.0001"
   ]
  },
  {
   "cell_type": "code",
   "execution_count": 29,
   "metadata": {},
   "outputs": [
    {
     "data": {
      "text/plain": [
       "array([[ 1., 25., 59., 55., 92., 69., 93., 18., 53., 27., 22.],\n",
       "       [ 1., 46., 98., 46., 91., 21., 70., 37., 74.,  6., 46.],\n",
       "       [ 1., 59., 95., 73., 36.,  1., 96., 48., 53.,  6., 72.],\n",
       "       [ 1., 42., 56., 37., 46., 46., 69., 86., 85., 28.,  4.],\n",
       "       [ 1., 81., 21., 45., 56., 77., 88., 10., 74., 83., 74.],\n",
       "       [ 1., 15., 28., 65., 92., 66., 94., 56., 37., 67., 29.],\n",
       "       [ 1., 79., 80., 77., 73., 63., 76., 25., 60., 68.,  7.],\n",
       "       [ 1., 44., 31., 95., 63., 91.,  8., 41., 59., 86., 57.],\n",
       "       [ 1., 11., 38.,  4., 84.,  8., 66., 19., 67., 33., 74.],\n",
       "       [ 1., 19., 24., 13., 93., 10., 36., 15., 15., 72., 14.]])"
      ]
     },
     "execution_count": 29,
     "metadata": {},
     "output_type": "execute_result"
    }
   ],
   "source": [
    "X"
   ]
  },
  {
   "attachments": {},
   "cell_type": "markdown",
   "metadata": {},
   "source": [
    "Exploring scipy.sparse.coo_matrix"
   ]
  },
  {
   "cell_type": "code",
   "execution_count": 30,
   "metadata": {},
   "outputs": [],
   "source": [
    "import time\n",
    "import scipy.sparse as sparse"
   ]
  },
  {
   "cell_type": "code",
   "execution_count": 31,
   "metadata": {},
   "outputs": [],
   "source": [
    "ITER = 100\n",
    "K = 10 # number of classes\n",
    "N = 10000"
   ]
  },
  {
   "cell_type": "code",
   "execution_count": 32,
   "metadata": {},
   "outputs": [
    {
     "data": {
      "text/plain": [
       "array([5, 2, 5, ..., 8, 8, 5])"
      ]
     },
     "execution_count": 32,
     "metadata": {},
     "output_type": "execute_result"
    }
   ],
   "source": [
    "Y = np.random.randint(0, K, size=N)\n",
    "Y"
   ]
  },
  {
   "cell_type": "code",
   "execution_count": 33,
   "metadata": {},
   "outputs": [],
   "source": [
    "def naive(indices, k):\n",
    "    # creates matrix row-by-row of 1 in places corresponding with number in indices (num of rows=N (num of observations)) => shape(num-of-observations, num-of-classes)\n",
    "    mat = [[1 if i == j else 0 for j in range(k)] for i in indices]\n",
    "\n",
    "    # return matrix is shape (num-of-classes, num-of-observations)\n",
    "    return np.array(mat).T"
   ]
  },
  {
   "attachments": {},
   "cell_type": "markdown",
   "metadata": {},
   "source": [
    "Info from [scipy documentation](https://docs.scipy.org/doc/scipy/reference/generated/scipy.sparse.coo_matrix.html)  \n",
    "coo_matrix( (data, (i, j)), [shape=(M, N)] )  \n",
    "To construct from three arrays:  \n",
    "- data[:] the entries of the matrix, in any order  \n",
    "- i[:] the row indices of the matrix entries\n",
    "- j[:] the column indices of the matrix entries\n",
    "  \n",
    "Where A[i[k], j[k]] = data[k]. When shape is not specified, it is inferred from the index arrays"
   ]
  },
  {
   "cell_type": "code",
   "execution_count": 34,
   "metadata": {},
   "outputs": [],
   "source": [
    "# function using sparse matrixes\n",
    "def with_sparse(indices, k):\n",
    "    n = len(indices) # => number of columns\n",
    "    # [1]*n - data\n",
    "    # Y -> row indices for data\n",
    "    # range(n) -> column indices for data\n",
    "    M = sparse.coo_matrix(([1]*n, (Y, range(n))), shape=(k,n)).toarray()\n",
    "    return M"
   ]
  },
  {
   "cell_type": "code",
   "execution_count": 35,
   "metadata": {},
   "outputs": [
    {
     "data": {
      "text/plain": [
       "array([[0, 0, 0, ..., 0, 0, 0],\n",
       "       [0, 0, 0, ..., 0, 0, 0],\n",
       "       [0, 1, 0, ..., 0, 0, 0],\n",
       "       ...,\n",
       "       [0, 0, 0, ..., 0, 0, 0],\n",
       "       [0, 0, 0, ..., 1, 1, 0],\n",
       "       [0, 0, 0, ..., 0, 0, 0]])"
      ]
     },
     "execution_count": 35,
     "metadata": {},
     "output_type": "execute_result"
    }
   ],
   "source": [
    "naive(Y, K)"
   ]
  },
  {
   "cell_type": "code",
   "execution_count": 36,
   "metadata": {},
   "outputs": [
    {
     "data": {
      "text/plain": [
       "array([[0, 0, 0, ..., 0, 0, 0],\n",
       "       [0, 0, 0, ..., 0, 0, 0],\n",
       "       [0, 1, 0, ..., 0, 0, 0],\n",
       "       ...,\n",
       "       [0, 0, 0, ..., 0, 0, 0],\n",
       "       [0, 0, 0, ..., 1, 1, 0],\n",
       "       [0, 0, 0, ..., 0, 0, 0]])"
      ]
     },
     "execution_count": 36,
     "metadata": {},
     "output_type": "execute_result"
    }
   ],
   "source": [
    "with_sparse(Y, K)"
   ]
  },
  {
   "cell_type": "code",
   "execution_count": 37,
   "metadata": {},
   "outputs": [
    {
     "name": "stdout",
     "output_type": "stream",
     "text": [
      "2.6380178928375244\n"
     ]
    }
   ],
   "source": [
    "t0 = time.time()\n",
    "for i in range(ITER):\n",
    "    naive(Y, K)\n",
    "print(time.time() - t0)"
   ]
  },
  {
   "cell_type": "code",
   "execution_count": 38,
   "metadata": {},
   "outputs": [
    {
     "name": "stdout",
     "output_type": "stream",
     "text": [
      "0.25402021408081055\n"
     ]
    }
   ],
   "source": [
    "t0 = time.time()\n",
    "for i in range(ITER):\n",
    "    with_sparse(Y, K)\n",
    "print(time.time() - t0)"
   ]
  },
  {
   "cell_type": "code",
   "execution_count": 39,
   "metadata": {},
   "outputs": [
    {
     "data": {
      "text/plain": [
       "[<matplotlib.lines.Line2D at 0x1d6914bddb0>]"
      ]
     },
     "execution_count": 39,
     "metadata": {},
     "output_type": "execute_result"
    },
    {
     "data": {
      "image/png": "[encoded data removed]",
      "text/plain": [
       "<Figure size 640x480 with 1 Axes>"
      ]
     },
     "metadata": {},
     "output_type": "display_data"
    }
   ],
   "source": [
    "chart_x = np.arange(-10, 10)\n",
    "chart_y = np.exp(chart_x)\n",
    "\n",
    "plt.plot(chart_x, chart_y)"
   ]
  },
  {
   "cell_type": "code",
   "execution_count": 40,
   "metadata": {},
   "outputs": [
    {
     "data": {
      "text/plain": [
       "array([4.53999298e-05, 1.23409804e-04, 3.35462628e-04, 9.11881966e-04,\n",
       "       2.47875218e-03, 6.73794700e-03, 1.83156389e-02, 4.97870684e-02,\n",
       "       1.35335283e-01, 3.67879441e-01, 1.00000000e+00, 2.71828183e+00,\n",
       "       7.38905610e+00, 2.00855369e+01, 5.45981500e+01, 1.48413159e+02,\n",
       "       4.03428793e+02, 1.09663316e+03, 2.98095799e+03, 8.10308393e+03])"
      ]
     },
     "execution_count": 40,
     "metadata": {},
     "output_type": "execute_result"
    }
   ],
   "source": [
    "chart_y"
   ]
  },
  {
   "cell_type": "code",
   "execution_count": 44,
   "metadata": {},
   "outputs": [
    {
     "data": {
      "text/plain": [
       "array([[ 1., 25., 59., 55.],\n",
       "       [ 1., 46., 98., 46.],\n",
       "       [ 1., 59., 95., 73.]])"
      ]
     },
     "execution_count": 44,
     "metadata": {},
     "output_type": "execute_result"
    }
   ],
   "source": [
    "X[:3, :4]"
   ]
  },
  {
   "cell_type": "code",
   "execution_count": 43,
   "metadata": {},
   "outputs": [
    {
     "data": {
      "text/plain": [
       "array([[1.000e+00, 6.250e+02, 3.481e+03, 3.025e+03],\n",
       "       [1.000e+00, 2.116e+03, 9.604e+03, 2.116e+03],\n",
       "       [1.000e+00, 3.481e+03, 9.025e+03, 5.329e+03]])"
      ]
     },
     "execution_count": 43,
     "metadata": {},
     "output_type": "execute_result"
    }
   ],
   "source": [
    "X[:3, :4] ** 2"
   ]
  },
  {
   "cell_type": "code",
   "execution_count": null,
   "metadata": {},
   "outputs": [],
   "source": []
  }
 ],
 "metadata": {
  "kernelspec": {
   "display_name": "dsml",
   "language": "python",
   "name": "python3"
  },
  "language_info": {
   "codemirror_mode": {
    "name": "ipython",
    "version": 3
   },
   "file_extension": ".py",
   "mimetype": "text/x-python",
   "name": "python",
   "nbconvert_exporter": "python",
   "pygments_lexer": "ipython3",
   "version": "3.10.8"
  },
  "orig_nbformat": 4
 },
 "nbformat": 4,
 "nbformat_minor": 2
}
