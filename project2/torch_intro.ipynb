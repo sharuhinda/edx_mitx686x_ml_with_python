{
 "cells": [
  {
   "cell_type": "code",
   "execution_count": 39,
   "metadata": {},
   "outputs": [
    {
     "name": "stdout",
     "output_type": "stream",
     "text": [
      "numpy version: 1.23.5\n",
      "matplotlib version: 3.6.2\n"
     ]
    }
   ],
   "source": [
    "import numpy as np\n",
    "print('numpy version:', np.__version__)\n",
    "\n",
    "import torch\n",
    "\n",
    "import matplotlib as mpl\n",
    "print('matplotlib version:', mpl.__version__)\n",
    "import matplotlib.pyplot as plt\n"
   ]
  },
  {
   "cell_type": "code",
   "execution_count": 2,
   "metadata": {},
   "outputs": [
    {
     "name": "stdout",
     "output_type": "stream",
     "text": [
      "tensor([[ 0.0736,  0.8028,  0.7018,  1.2811,  2.3517],\n",
      "        [ 0.3362,  0.2669, -0.4541, -0.0311, -0.2536],\n",
      "        [-1.2545, -1.1211, -0.4487,  0.4692, -0.7110],\n",
      "        [ 0.2738, -0.5250,  1.5847,  1.1820,  1.0159],\n",
      "        [-1.5289, -0.6134,  0.1422, -0.3848, -0.1611]])\n",
      "tensor([[ 1.3498,  0.9329,  0.5669,  1.3814,  0.6641],\n",
      "        [-1.3938, -0.6180,  1.0707, -2.0101, -1.0234],\n",
      "        [ 0.7960, -1.1216,  0.1650, -1.2987, -0.1192],\n",
      "        [ 2.1827,  2.2497, -0.5442,  0.6444,  0.4571],\n",
      "        [-0.7111,  0.8137,  1.2128,  2.3903, -1.4390]])\n"
     ]
    }
   ],
   "source": [
    "# create 2 tensors of same size\n",
    "a = torch.randn(5, 5)\n",
    "b = torch.randn(5, 5)\n",
    "print(a)\n",
    "print(b)"
   ]
  },
  {
   "cell_type": "code",
   "execution_count": 4,
   "metadata": {},
   "outputs": [
    {
     "name": "stdout",
     "output_type": "stream",
     "text": [
      "tensor([[0.0736, 0.8028],\n",
      "        [0.3362, 0.2669]])\n"
     ]
    }
   ],
   "source": [
    "#indexing\n",
    "another_tensor = a[:2, :2]\n",
    "print(another_tensor)"
   ]
  },
  {
   "cell_type": "code",
   "execution_count": 5,
   "metadata": {},
   "outputs": [
    {
     "name": "stdout",
     "output_type": "stream",
     "text": [
      "-0.4487419128417969\n"
     ]
    }
   ],
   "source": [
    "# getting python-type value from tensor\n",
    "print(a[2, 2].item())"
   ]
  },
  {
   "cell_type": "code",
   "execution_count": 6,
   "metadata": {},
   "outputs": [
    {
     "data": {
      "text/plain": [
       "tensor([[ 1.4234,  1.7357,  1.2687,  2.6625,  3.0159],\n",
       "        [-1.0575, -0.3511,  0.6166, -2.0412, -1.2771],\n",
       "        [-0.4585, -2.2427, -0.2837, -0.8295, -0.8302],\n",
       "        [ 2.4565,  1.7247,  1.0405,  1.8263,  1.4730],\n",
       "        [-2.2401,  0.2003,  1.3550,  2.0055, -1.6001]])"
      ]
     },
     "execution_count": 6,
     "metadata": {},
     "output_type": "execute_result"
    }
   ],
   "source": [
    "# main operations\n",
    "# addition\n",
    "a + b"
   ]
  },
  {
   "cell_type": "code",
   "execution_count": 9,
   "metadata": {},
   "outputs": [
    {
     "name": "stdout",
     "output_type": "stream",
     "text": [
      "[[1 1 1 1 1]\n",
      " [0 0 1 0 0]\n",
      " [1 0 1 0 0]\n",
      " [1 1 0 1 1]\n",
      " [0 1 1 1 0]]\n"
     ]
    },
    {
     "data": {
      "text/plain": [
       "tensor([[ 0.0736,  0.8028,  0.7018,  1.2811,  2.3517],\n",
       "        [ 0.0000,  0.0000, -0.4541, -0.0000, -0.0000],\n",
       "        [-1.2545, -0.0000, -0.4487,  0.0000, -0.0000],\n",
       "        [ 0.2738, -0.5250,  0.0000,  1.1820,  1.0159],\n",
       "        [-0.0000, -0.6134,  0.1422, -0.3848, -0.0000]], dtype=torch.float64)"
      ]
     },
     "execution_count": 9,
     "metadata": {},
     "output_type": "execute_result"
    }
   ],
   "source": [
    "# element-wise multiplication\n",
    "c = np.where(b>0, 1, 0)\n",
    "print(c)\n",
    "a * c"
   ]
  },
  {
   "cell_type": "code",
   "execution_count": 10,
   "metadata": {},
   "outputs": [
    {
     "data": {
      "text/plain": [
       "tensor([[ 0.6629,  3.5812,  3.1721,  4.0236, -3.6550],\n",
       "        [-0.1671,  0.3816,  0.1107, -0.1086,  0.3551],\n",
       "        [ 1.0417,  0.5028, -3.1032, -0.2940,  1.6053],\n",
       "        [ 4.2202,  2.2883,  0.4435,  2.5656, -0.3914],\n",
       "        [-1.8209, -2.2035, -1.4860, -1.6966, -0.3487]])"
      ]
     },
     "execution_count": 10,
     "metadata": {},
     "output_type": "execute_result"
    }
   ],
   "source": [
    "# matrix multiplication\n",
    "a.mm(b)"
   ]
  },
  {
   "cell_type": "code",
   "execution_count": 12,
   "metadata": {},
   "outputs": [
    {
     "data": {
      "text/plain": [
       "tensor([ 4.5777,  0.2340, -2.8177,  3.0856, -3.1939])"
      ]
     },
     "execution_count": 12,
     "metadata": {},
     "output_type": "execute_result"
    }
   ],
   "source": [
    "# multiply matrix by vector\n",
    "a.matmul(b[0, :])"
   ]
  },
  {
   "cell_type": "code",
   "execution_count": 14,
   "metadata": {},
   "outputs": [
    {
     "name": "stdout",
     "output_type": "stream",
     "text": [
      "torch.Size([5, 5])\n",
      "torch.Size([5])\n"
     ]
    }
   ],
   "source": [
    "# size and dimensions\n",
    "print(a.size())\n",
    "print(b[0, :].size())"
   ]
  },
  {
   "cell_type": "code",
   "execution_count": 15,
   "metadata": {},
   "outputs": [
    {
     "name": "stdout",
     "output_type": "stream",
     "text": [
      "tensor([-1.3938, -0.6180,  1.0707, -2.0101, -1.0234])\n",
      "torch.Size([5])\n",
      "tensor([[-1.3938],\n",
      "        [-0.6180],\n",
      "        [ 1.0707],\n",
      "        [-2.0101],\n",
      "        [-1.0234]])\n",
      "torch.Size([5, 1])\n"
     ]
    }
   ],
   "source": [
    "# vector as matrix\n",
    "vec = b[1, :]\n",
    "print(vec)\n",
    "print(vec.size())\n",
    "vec_as_m = vec.view(5, 1)\n",
    "print(vec_as_m)\n",
    "print(vec_as_m.size())"
   ]
  },
  {
   "cell_type": "code",
   "execution_count": 16,
   "metadata": {},
   "outputs": [
    {
     "name": "stdout",
     "output_type": "stream",
     "text": [
      "tensor([[2.0736, 2.8028, 2.7018, 3.2811, 4.3517],\n",
      "        [2.3362, 2.2669, 1.5459, 1.9689, 1.7464],\n",
      "        [0.7455, 0.8789, 1.5513, 2.4692, 1.2890],\n",
      "        [2.2738, 1.4750, 3.5847, 3.1820, 3.0159],\n",
      "        [0.4711, 1.3866, 2.1422, 1.6152, 1.8389]])\n",
      "tensor([[-5.9264, -5.1972, -5.2982, -4.7189, -3.6483],\n",
      "        [-5.6638, -5.7331, -6.4541, -6.0311, -6.2536],\n",
      "        [-7.2545, -7.1211, -6.4487, -5.5308, -6.7110],\n",
      "        [-5.7262, -6.5250, -4.4153, -4.8180, -4.9841],\n",
      "        [-7.5289, -6.6134, -5.8578, -6.3848, -6.1611]])\n",
      "tensor([[0., 0., 0., 0., 0.],\n",
      "        [0., 0., 0., 0., 0.],\n",
      "        [0., 0., 0., 0., 0.],\n",
      "        [0., 0., 0., 0., 0.],\n",
      "        [0., 0., 0., 0., 0.]])\n"
     ]
    }
   ],
   "source": [
    "# in-place operations\n",
    "print(a.add_(2))\n",
    "print(a.sub_(8))\n",
    "print(a.zero_()) # set all elements to 0"
   ]
  },
  {
   "cell_type": "code",
   "execution_count": 19,
   "metadata": {},
   "outputs": [
    {
     "name": "stdout",
     "output_type": "stream",
     "text": [
      "torch.Size([5, 5])\n",
      "torch.Size([5, 5, 1])\n",
      "torch.Size([1, 5, 5])\n",
      "torch.Size([5, 1, 5])\n"
     ]
    }
   ],
   "source": [
    "# manipulating dimensions\n",
    "print(a.size())\n",
    "# add dummy dimension e.g. (n, m) -> (n, m, 1)\n",
    "# at the end\n",
    "print(a.unsqueeze(-1).size())\n",
    "# at the beginning\n",
    "print(a.unsqueeze(0).size())\n",
    "# at the middle\n",
    "print(a.unsqueeze(1).size())"
   ]
  },
  {
   "cell_type": "code",
   "execution_count": 21,
   "metadata": {},
   "outputs": [
    {
     "name": "stdout",
     "output_type": "stream",
     "text": [
      "torch.Size([16, 1])\n",
      "torch.Size([8, 2])\n"
     ]
    }
   ],
   "source": [
    "a = torch.randn(4, 4)\n",
    "# flat\n",
    "print(a.view(16, 1).size())\n",
    "# not flat\n",
    "print(a.view(8, 2).size())"
   ]
  },
  {
   "cell_type": "code",
   "execution_count": 24,
   "metadata": {},
   "outputs": [
    {
     "name": "stdout",
     "output_type": "stream",
     "text": [
      "tensor([[-1.1514],\n",
      "        [ 1.7354],\n",
      "        [ 0.1533]])\n",
      "tensor([[-1.1514, -1.1514, -1.1514, -1.1514],\n",
      "        [ 1.7354,  1.7354,  1.7354,  1.7354],\n",
      "        [ 0.1533,  0.1533,  0.1533,  0.1533]])\n"
     ]
    }
   ],
   "source": [
    "# copy data across new dummy dimension\n",
    "a = torch.randn(3)\n",
    "a_test = a.unsqueeze(-1)\n",
    "print(a_test)\n",
    "print(a_test.expand(3, 4))"
   ]
  },
  {
   "cell_type": "code",
   "execution_count": 25,
   "metadata": {},
   "outputs": [
    {
     "data": {
      "text/plain": [
       "False"
      ]
     },
     "execution_count": 25,
     "metadata": {},
     "output_type": "execute_result"
    }
   ],
   "source": [
    "torch.cuda.is_available()\n",
    "if torch.cuda.is_available():\n",
    "    print('Using fancy GPUs')\n",
    "    # One way\n",
    "    a = a.cuda()\n",
    "    a = a.cpu()\n",
    "\n",
    "    # Another way\n",
    "    device = torch.device('cuda')\n",
    "    a = a.to(device)\n",
    "\n",
    "    device = torch.device('cpu')\n",
    "    a = a.to(device)\n",
    "else:\n",
    "    print('CPU it is!')"
   ]
  },
  {
   "attachments": {},
   "cell_type": "markdown",
   "metadata": {},
   "source": [
    "#### Mini-Batching  \n",
    "In most ML applications we do mini-batch stochastic gradient descent instead of pure stochastic gradient descent.  \n",
    "Advantages of mini-batch SGD include a more stable gradient estimate and computational efficiency on modern hardware (exploiting parallelism gives sub-linear to constant time complexity, especially on GPU).  \n",
    "In PyTorch, batched tensors are represented as just another dimension. Most of the deep learning modules assume batched tensors as input (even if the batch size is just 1)."
   ]
  },
  {
   "cell_type": "code",
   "execution_count": 27,
   "metadata": {},
   "outputs": [
    {
     "name": "stdout",
     "output_type": "stream",
     "text": [
      "tensor([[[-0.3344, -1.4794,  1.5314, -1.8229, -1.5028],\n",
      "         [ 0.2227,  0.8373,  0.6657, -3.3446, -1.3742],\n",
      "         [ 0.1388, -1.2701,  0.3391, -0.6174,  0.1180],\n",
      "         [-0.8577, -2.3903,  0.6882,  4.4911,  0.7727],\n",
      "         [ 1.5503,  1.5510, -2.4324, -5.3960, -0.3040]],\n",
      "\n",
      "        [[-0.4192, -1.1436, -0.2179,  3.8727,  2.1883],\n",
      "         [ 1.4048,  0.8035,  0.1160, -1.2758,  1.2005],\n",
      "         [ 0.3256,  2.8027, -0.6305, -1.7044,  1.0260],\n",
      "         [-2.7794, -3.9560,  2.3341, -3.1091, -8.5081],\n",
      "         [ 0.5974,  0.4694,  0.2659, -0.8208,  0.3955]],\n",
      "\n",
      "        [[-1.2088,  0.0352,  1.3807,  0.5977, -1.3040],\n",
      "         [-0.3233, -1.6848, -0.4320,  0.1473, -0.7614],\n",
      "         [-2.0405, -2.4601, -3.9090,  0.9274, -2.7402],\n",
      "         [ 1.3654, -2.5206, -0.0226,  0.0380, -0.6163],\n",
      "         [-2.2680,  0.9014, -0.3878, -0.2500,  0.4414]]])\n",
      "torch.Size([3, 5, 5])\n"
     ]
    }
   ],
   "source": [
    "# batched matrix multiplication (through 1st dimension)\n",
    "a = torch.randn(3, 5, 5)\n",
    "b = torch.randn(3, 5, 5)\n",
    "# same as for i in 1..3 c[i] = a[i] * b[i]\n",
    "c = a.bmm(b)\n",
    "print(c)\n",
    "print(c.size())"
   ]
  },
  {
   "attachments": {},
   "cell_type": "markdown",
   "metadata": {},
   "source": [
    "#### Autograd: Automatic Differentiation!  \n",
    "Along with the flexible deep learning modules (to follow) this is the best part of using a package PyTorch.  \n",
    "What is autograd? It automatically computes gradients. All those complicated functions you might be using for your model need gradients for back-propagation. Autograd does this auto-magically!"
   ]
  },
  {
   "cell_type": "code",
   "execution_count": 33,
   "metadata": {},
   "outputs": [
    {
     "name": "stdout",
     "output_type": "stream",
     "text": [
      "tensor([3.4952], requires_grad=True)\n"
     ]
    }
   ],
   "source": [
    "# a tensor that will remember gradients\n",
    "a = torch.randn(1, requires_grad=True)\n",
    "print(a)"
   ]
  },
  {
   "cell_type": "code",
   "execution_count": 34,
   "metadata": {},
   "outputs": [
    {
     "name": "stdout",
     "output_type": "stream",
     "text": [
      "None\n"
     ]
    }
   ],
   "source": [
    "# at first grad parameter is None\n",
    "print(a.grad)"
   ]
  },
  {
   "cell_type": "code",
   "execution_count": 35,
   "metadata": {},
   "outputs": [
    {
     "name": "stdout",
     "output_type": "stream",
     "text": [
      "tensor([32.9574], grad_fn=<ExpBackward0>)\n"
     ]
    }
   ],
   "source": [
    "# after the operation\n",
    "b = a.exp()\n",
    "print(b)"
   ]
  },
  {
   "cell_type": "code",
   "execution_count": 36,
   "metadata": {},
   "outputs": [
    {
     "name": "stdout",
     "output_type": "stream",
     "text": [
      "tensor([32.9574]) tensor([32.9574], grad_fn=<ExpBackward0>)\n"
     ]
    }
   ],
   "source": [
    "# to run the gradient computing magic, call '.backward()' on a variable\n",
    "# it will work for scalars only\n",
    "b.backward()\n",
    "# for all dependent variables {x_1, ..., x_n} that were used to compute y, dy/x_i is computed and stored in the x_i.grad field\n",
    "# here dy/dx = e^x = y. Let's see!\n",
    "print(a.grad, b)"
   ]
  },
  {
   "attachments": {},
   "cell_type": "markdown",
   "metadata": {},
   "source": [
    "> Important! Remember to zero gradients before subsequent calls to backwards."
   ]
  },
  {
   "cell_type": "code",
   "execution_count": 37,
   "metadata": {},
   "outputs": [
    {
     "name": "stdout",
     "output_type": "stream",
     "text": [
      "tensor([34.9574])\n"
     ]
    }
   ],
   "source": [
    "# compute another function using a.\n",
    "c = a * 2\n",
    "c.backward()\n",
    "\n",
    "# Should be 2! But it will be 2 + e^x.\n",
    "print(a.grad)"
   ]
  },
  {
   "attachments": {},
   "cell_type": "markdown",
   "metadata": {},
   "source": [
    "> Also important! Under the hood PyTorch stores all the stuff required to compute gradients (call stack, cached values, etc). If you want to save a variable just to keep it around (say for logging or plotting) remember to call .item() to get the python value and free the PyTorch machinery memory.  \n",
    "You can stop auto-grad from running in the background by using the torch.no_grad() context manager.  \n",
    "with torch.no_grad():  \n",
    "    do_all_my_things()"
   ]
  },
  {
   "attachments": {},
   "cell_type": "markdown",
   "metadata": {},
   "source": [
    "#### Manual Neural Net + Autograd SGD Example"
   ]
  },
  {
   "attachments": {},
   "cell_type": "markdown",
   "metadata": {},
   "source": [
    "One hidden layer feed forward NN on a toy dataset"
   ]
  },
  {
   "cell_type": "code",
   "execution_count": 38,
   "metadata": {},
   "outputs": [],
   "source": [
    "import random\n",
    "\n",
    "def set_seed(seed):\n",
    "    random.seed(seed)\n",
    "    np.random.seed(seed)\n",
    "    torch.manual_seed(seed)\n",
    "    if torch.cuda.is_available():\n",
    "        torch.cuda.manual_seed(seed)"
   ]
  },
  {
   "cell_type": "code",
   "execution_count": 47,
   "metadata": {},
   "outputs": [
    {
     "name": "stdout",
     "output_type": "stream",
     "text": [
      "Num of examples:  100\n",
      "Num of features:  2\n"
     ]
    }
   ],
   "source": [
    "from sklearn.datasets import make_classification\n",
    "set_seed(7)\n",
    "X, Y = make_classification(n_features=2, n_redundant=0, n_informative=1, n_clusters_per_class=1)\n",
    "print('Num of examples: ', X.shape[0])\n",
    "print('Num of features: ', X.shape[1])"
   ]
  },
  {
   "cell_type": "code",
   "execution_count": 48,
   "metadata": {},
   "outputs": [
    {
     "data": {
      "text/plain": [
       "<matplotlib.collections.PathCollection at 0x1d0f0c2a290>"
      ]
     },
     "execution_count": 48,
     "metadata": {},
     "output_type": "execute_result"
    },
    {
     "data": {
      "image/png": "[encoded data removed]",
      "text/plain": [
       "<Figure size 640x480 with 1 Axes>"
      ]
     },
     "metadata": {},
     "output_type": "display_data"
    }
   ],
   "source": [
    "plt.scatter(X[:, 0], X[:, 1], c=Y, s=25, edgecolors='k')"
   ]
  },
  {
   "cell_type": "code",
   "execution_count": 49,
   "metadata": {},
   "outputs": [],
   "source": [
    "# convert data to pytorch\n",
    "X, Y = torch.from_numpy(X), torch.from_numpy(Y)\n",
    "# gotcha: \"Expected object of scalar type Float but got scalar type Double\"\n",
    "# if you see this it's because numpy defaults to Doubles whereas pytorch has floats.\n",
    "X, Y = X.float(), Y.float()"
   ]
  },
  {
   "attachments": {},
   "cell_type": "markdown",
   "metadata": {},
   "source": [
    "We'll train a one layer neural net to classify this dataset. Let's define the parameter sizes:"
   ]
  },
  {
   "cell_type": "code",
   "execution_count": 50,
   "metadata": {},
   "outputs": [],
   "source": [
    "# define dimensions\n",
    "num_feats = 2\n",
    "hidden_size = 100\n",
    "num_outputs = 1\n",
    "# learning rate\n",
    "eta = 0.1\n",
    "num_steps = 1000"
   ]
  },
  {
   "cell_type": "code",
   "execution_count": 51,
   "metadata": {},
   "outputs": [
    {
     "data": {
      "text/plain": [
       "Text(0.5, 0, 'Step')"
      ]
     },
     "execution_count": 51,
     "metadata": {},
     "output_type": "execute_result"
    },
    {
     "data": {
      "image/png": "[encoded data removed]",
      "text/plain": [
       "<Figure size 640x480 with 1 Axes>"
      ]
     },
     "metadata": {},
     "output_type": "display_data"
    }
   ],
   "source": [
    "# now run a few steps of SGD\n",
    "# input to hidden parameters\n",
    "W1 = torch.randn(hidden_size, num_feats, requires_grad=True)\n",
    "b1 = torch.zeros(hidden_size, requires_grad=True)\n",
    "\n",
    "# hidden to output parameters\n",
    "W2 = torch.randn(num_outputs, hidden_size, requires_grad=True)\n",
    "b2 = torch.zeros(num_outputs, requires_grad=True)\n",
    "\n",
    "# grouping parameters\n",
    "parameters = [W1, b1, W2, b2]\n",
    "\n",
    "# get random order of observations\n",
    "indices = torch.randperm(X.size(0))\n",
    "\n",
    "# if need to save running average losses for a learning curve\n",
    "avg_loss = []\n",
    "\n",
    "# main loop\n",
    "for step in range(num_steps):\n",
    "    # get observation\n",
    "    i = indices[step % indices.size(0)]\n",
    "    x_i, y_i = X[i], Y[i]\n",
    "\n",
    "    # make run forward \n",
    "    hidden = torch.relu(W1.matmul(x_i) + b1)\n",
    "    y_hat = torch.sigmoid(W2.matmul(hidden) + b2)\n",
    "\n",
    "    # compute loss binary cross entropy: -(y_i * log(y_hat) + (1 - y_i) * log(1 - y_hat))\n",
    "    # epsilon for numerical stability\n",
    "    eps = 1e-6\n",
    "    loss = -(y_i * (y_hat + eps).log() + (1 - y_i) * (1 - y_hat + eps).log())\n",
    "\n",
    "    # add to our running average learning curve. Don't forget .item() to get Python value!\n",
    "    if step == 0:\n",
    "        avg_loss.append(loss.item())\n",
    "    else:\n",
    "        old_avg = avg_loss[-1]\n",
    "        new_avg = (loss.item() + old_avg * len(avg_loss)) / (len(avg_loss) + 1)\n",
    "        avg_loss.append(new_avg)\n",
    "\n",
    "    # zero out all previous gradients\n",
    "    for param in parameters:\n",
    "        # it might start out as None\n",
    "        if param.grad is not None:\n",
    "            param.grad.zero_() # in place operation\n",
    "\n",
    "    # backward pass\n",
    "    loss.backward()\n",
    "\n",
    "    # update parameters\n",
    "    for oaram in parameters:\n",
    "        param.data = param.data - eta * param.grad\n",
    "\n",
    "plt.plot(range(num_steps), avg_loss)\n",
    "plt.ylabel('Avg loss')\n",
    "plt.xlabel('Step')"
   ]
  },
  {
   "attachments": {},
   "cell_type": "markdown",
   "metadata": {},
   "source": [
    "#### torch.nn\n",
    "The nn package is where all of the cool neural network stuff is. Layers, loss functions, etc."
   ]
  },
  {
   "attachments": {},
   "cell_type": "markdown",
   "metadata": {},
   "source": [
    "##### Layers\n",
    "Before we manually defined our linear layers. PyTorch has them for you as sub-classes of nn.Module."
   ]
  },
  {
   "cell_type": "code",
   "execution_count": 52,
   "metadata": {},
   "outputs": [
    {
     "name": "stdout",
     "output_type": "stream",
     "text": [
      "Linear(in_features=10, out_features=10, bias=True)\n"
     ]
    }
   ],
   "source": [
    "import torch.nn as nn\n",
    "\n",
    "# linear layer: in_features, out_features\n",
    "linear = nn.Linear(10, 10)\n",
    "print(linear)"
   ]
  },
  {
   "cell_type": "code",
   "execution_count": 53,
   "metadata": {},
   "outputs": [
    {
     "name": "stdout",
     "output_type": "stream",
     "text": [
      "Conv2d(1, 20, kernel_size=(5, 5), stride=(1, 1))\n"
     ]
    }
   ],
   "source": [
    "# convolution layer: in_channels, out_channels (feature maps), kernel_size, stride\n",
    "conv = nn.Conv2d(1, 20, 5, 1)\n",
    "print(conv)"
   ]
  },
  {
   "cell_type": "code",
   "execution_count": 54,
   "metadata": {},
   "outputs": [
    {
     "name": "stdout",
     "output_type": "stream",
     "text": [
      "RNN(10, 10)\n"
     ]
    }
   ],
   "source": [
    "# RNN: num_inputs, num_hidden, num_layers\n",
    "rnn = nn.RNN(10, 10, 1)\n",
    "print(rnn)"
   ]
  },
  {
   "cell_type": "code",
   "execution_count": 55,
   "metadata": {},
   "outputs": [
    {
     "name": "stdout",
     "output_type": "stream",
     "text": [
      "Parameter containing:\n",
      "tensor([[-0.2087,  0.0624,  0.0927,  0.2812,  0.0016,  0.2136, -0.1054, -0.2304,\n",
      "         -0.0307,  0.1642],\n",
      "        [-0.1235, -0.2677, -0.1926,  0.0560,  0.3015,  0.0175, -0.2549, -0.1416,\n",
      "          0.1605, -0.0995],\n",
      "        [-0.0427,  0.2353,  0.1162,  0.1936,  0.2839, -0.1041,  0.0458, -0.2373,\n",
      "          0.3143, -0.2120],\n",
      "        [ 0.3006,  0.2895,  0.0688, -0.2734, -0.0102, -0.1303,  0.0969,  0.1788,\n",
      "          0.1761,  0.1016],\n",
      "        [-0.2423, -0.2660,  0.0934, -0.0694,  0.1478,  0.3073,  0.0955, -0.1904,\n",
      "         -0.0913,  0.1948],\n",
      "        [ 0.0300,  0.2156, -0.3031, -0.0390, -0.1542,  0.2403,  0.1383, -0.0424,\n",
      "         -0.2934, -0.0373],\n",
      "        [ 0.2564, -0.0085, -0.0131, -0.2924,  0.2504,  0.2616, -0.2541, -0.2243,\n",
      "          0.0153, -0.1809],\n",
      "        [-0.2588,  0.0992, -0.0820,  0.1096,  0.1257,  0.2816,  0.1879, -0.2973,\n",
      "         -0.2548,  0.2535],\n",
      "        [-0.2687,  0.1933, -0.1927,  0.2537,  0.1788, -0.2183, -0.2614, -0.1386,\n",
      "         -0.1446, -0.1795],\n",
      "        [ 0.2228,  0.0777, -0.0397, -0.0215,  0.1316,  0.0324, -0.0392,  0.2808,\n",
      "          0.2182,  0.0222]], requires_grad=True)\n"
     ]
    }
   ],
   "source": [
    "print(linear.weight)"
   ]
  },
  {
   "cell_type": "code",
   "execution_count": 56,
   "metadata": {},
   "outputs": [
    {
     "name": "stdout",
     "output_type": "stream",
     "text": [
      "['weight', 'bias']\n"
     ]
    }
   ],
   "source": [
    "print([k for k, v in conv.named_parameters()])"
   ]
  },
  {
   "cell_type": "code",
   "execution_count": 57,
   "metadata": {},
   "outputs": [],
   "source": [
    "import torch.nn.functional as F\n",
    "\n",
    "# make custom model\n",
    "class Net(nn.Module):\n",
    "    def __init__(self) -> None:\n",
    "        super(Net, self).__init__()\n",
    "        # 1 input channel to 20 feature maps of 5x5 kernel. Stride 1\n",
    "        self.conv1 = nn.Conv2d(1, 20, 5, 1)\n",
    "        # 20 input channels to 50 feature maps of 5x5 kernel. Stride 1\n",
    "        self.conv2 = nn.Conv2d(20, 50, 5, 1)\n",
    "        # full connected of final 4x4 image to 500 features\n",
    "        self.fc1 = nn.Linear(4*4*50, 500)\n",
    "        # from 500 to 10 classes\n",
    "        self.fc2 = nn.Linear(500, 10)\n",
    "\n",
    "    def forward(self, x):\n",
    "        x = F.relu(self.conv1(x))\n",
    "        x = F.max_pool2d(x, 2, 2)\n",
    "        x = F.relu(self.conv2(x))\n",
    "        x = F.max_pool2d(x, 2, 2)\n",
    "        x = x.view(-1, 4*4*50)\n",
    "        x = F.relu(self.fc1(x))\n",
    "        x = self.fc2(x)\n",
    "        return F.log_softmax(x, dim=1)\n",
    "\n",
    "# initialization\n",
    "model = Net()"
   ]
  },
  {
   "attachments": {},
   "cell_type": "markdown",
   "metadata": {},
   "source": [
    "A note on convolution sizes:  \n",
    "Running a kernel over the image reduces the image height/length by kernel_size - 1.  \n",
    "Running a max pooling over the image reduces the image heigh/length by a factor of the kernel size.  \n",
    "So starting from a 28 x 28 image:\n",
    "- Run 5x5 conv --> 24 x 24\n",
    "- Apply 2x2 max pool --> 12 x 12\n",
    "- Run 5x5 conv --> 8 x 8\n",
    "- Apply 2x2 max pool --> 4 x 4"
   ]
  },
  {
   "attachments": {},
   "cell_type": "markdown",
   "metadata": {},
   "source": [
    "##### Optimizers  \n",
    "There are several algorithms you can learn about. Here's SGD:"
   ]
  },
  {
   "cell_type": "code",
   "execution_count": 58,
   "metadata": {},
   "outputs": [],
   "source": [
    "import torch.optim as optim\n",
    "\n",
    "# initialize with model parameters\n",
    "optimizer = optim.SGD(model.parameters(), lr=0.01)"
   ]
  },
  {
   "attachments": {},
   "cell_type": "markdown",
   "metadata": {},
   "source": [
    "Updating is now as easy as:  \n",
    "loss = loss_fn()  \n",
    "optimizer.zero_grad()  \n",
    "loss.backward()  \n",
    "optimizer.step()  "
   ]
  },
  {
   "attachments": {},
   "cell_type": "markdown",
   "metadata": {},
   "source": [
    "##### Train loop"
   ]
  },
  {
   "cell_type": "code",
   "execution_count": 59,
   "metadata": {},
   "outputs": [],
   "source": [
    "import tqdm\n",
    "\n",
    "def train(model, train_loader, optimizer, epoch):\n",
    "    # for things like dropout\n",
    "    model.train()\n",
    "\n",
    "    # avg loss\n",
    "    total_loss = 0\n",
    "\n",
    "    # iterate through dataset\n",
    "    for data, target in tqdm.tqdm(train_loader):\n",
    "        # zero grad\n",
    "        optimizer.zero_grad()\n",
    "\n",
    "        # forward pass\n",
    "        output = model(data)\n",
    "\n",
    "        # negative log likelihood loss function\n",
    "        loss = F.nll_loss(output, target)\n",
    "\n",
    "        # backward pass\n",
    "        loss.backward()\n",
    "        total_loss += loss.item()\n",
    "\n",
    "        # update\n",
    "        optimizer.step()\n",
    "    \n",
    "    print('Train epoch {}\\t Loss: {:.6f}'.format(epoch, total_loss / len(train_loader)))"
   ]
  },
  {
   "attachments": {},
   "cell_type": "markdown",
   "metadata": {},
   "source": [
    "##### Test loop"
   ]
  },
  {
   "cell_type": "code",
   "execution_count": 60,
   "metadata": {},
   "outputs": [],
   "source": [
    "def test(model, test_loader):\n",
    "    model.eval()\n",
    "    test_loss = 0\n",
    "    correct = 0\n",
    "    with torch.no_grad():\n",
    "        for data, target in test_loader:\n",
    "            output = model(data)\n",
    "            test_loss += F.nll_loss(output, target, reduction='sum').item() # sum up batch loss\n",
    "            pred = output.argmax(dim=1, keepdim=True) # get index of max probability\n",
    "            correct += pred.eq(target.view_as(pred)).sum().item()\n",
    "\n",
    "    test_loss /= len(test_loader.dataset)\n",
    "\n",
    "    print('\\nTest set: average loss: {:.6f}, accuracy: {}/{} ({:.4f}%)\\n'.format(test_loss, correct, len(test_loader.dataset), 100. * correct / len(test_loader.dataset)))"
   ]
  },
  {
   "attachments": {},
   "cell_type": "markdown",
   "metadata": {},
   "source": [
    "#### Test on MNIST"
   ]
  },
  {
   "cell_type": "code",
   "execution_count": 61,
   "metadata": {},
   "outputs": [
    {
     "name": "stdout",
     "output_type": "stream",
     "text": [
      "Downloading http://yann.lecun.com/exdb/mnist/train-images-idx3-ubyte.gz\n",
      "Downloading http://yann.lecun.com/exdb/mnist/train-images-idx3-ubyte.gz to ./datasets/mnist_data\\MNIST\\raw\\train-images-idx3-ubyte.gz\n"
     ]
    },
    {
     "data": {
      "application/vnd.jupyter.widget-view+json": {
       "model_id": "c575a0453e1c4182a33cf970f3d8c0d6",
       "version_major": 2,
       "version_minor": 0
      },
      "text/plain": [
       "  0%|          | 0/9912422 [00:00<?, ?it/s]"
      ]
     },
     "metadata": {},
     "output_type": "display_data"
    },
    {
     "name": "stdout",
     "output_type": "stream",
     "text": [
      "Extracting ./datasets/mnist_data\\MNIST\\raw\\train-images-idx3-ubyte.gz to ./datasets/mnist_data\\MNIST\\raw\n",
      "\n",
      "Downloading http://yann.lecun.com/exdb/mnist/train-labels-idx1-ubyte.gz\n",
      "Downloading http://yann.lecun.com/exdb/mnist/train-labels-idx1-ubyte.gz to ./datasets/mnist_data\\MNIST\\raw\\train-labels-idx1-ubyte.gz\n"
     ]
    },
    {
     "data": {
      "application/vnd.jupyter.widget-view+json": {
       "model_id": "e69c6e7f6a6b45909b11ae52d3e18ba4",
       "version_major": 2,
       "version_minor": 0
      },
      "text/plain": [
       "  0%|          | 0/28881 [00:00<?, ?it/s]"
      ]
     },
     "metadata": {},
     "output_type": "display_data"
    },
    {
     "name": "stdout",
     "output_type": "stream",
     "text": [
      "Extracting ./datasets/mnist_data\\MNIST\\raw\\train-labels-idx1-ubyte.gz to ./datasets/mnist_data\\MNIST\\raw\n",
      "\n",
      "Downloading http://yann.lecun.com/exdb/mnist/t10k-images-idx3-ubyte.gz\n",
      "Downloading http://yann.lecun.com/exdb/mnist/t10k-images-idx3-ubyte.gz to ./datasets/mnist_data\\MNIST\\raw\\t10k-images-idx3-ubyte.gz\n"
     ]
    },
    {
     "data": {
      "application/vnd.jupyter.widget-view+json": {
       "model_id": "97cecae4d69e42eaa408966ebc303535",
       "version_major": 2,
       "version_minor": 0
      },
      "text/plain": [
       "  0%|          | 0/1648877 [00:00<?, ?it/s]"
      ]
     },
     "metadata": {},
     "output_type": "display_data"
    },
    {
     "name": "stdout",
     "output_type": "stream",
     "text": [
      "Extracting ./datasets/mnist_data\\MNIST\\raw\\t10k-images-idx3-ubyte.gz to ./datasets/mnist_data\\MNIST\\raw\n",
      "\n",
      "Downloading http://yann.lecun.com/exdb/mnist/t10k-labels-idx1-ubyte.gz\n",
      "Downloading http://yann.lecun.com/exdb/mnist/t10k-labels-idx1-ubyte.gz to ./datasets/mnist_data\\MNIST\\raw\\t10k-labels-idx1-ubyte.gz\n"
     ]
    },
    {
     "data": {
      "application/vnd.jupyter.widget-view+json": {
       "model_id": "3817169312db4ac195d0b8328ae9221c",
       "version_major": 2,
       "version_minor": 0
      },
      "text/plain": [
       "  0%|          | 0/4542 [00:00<?, ?it/s]"
      ]
     },
     "metadata": {},
     "output_type": "display_data"
    },
    {
     "name": "stdout",
     "output_type": "stream",
     "text": [
      "Extracting ./datasets/mnist_data\\MNIST\\raw\\t10k-labels-idx1-ubyte.gz to ./datasets/mnist_data\\MNIST\\raw\n",
      "\n"
     ]
    }
   ],
   "source": [
    "from torchvision import datasets, transforms\n",
    "\n",
    "# see the torch DataLoader for more details\n",
    "train_loader = torch.utils.data.DataLoader(\n",
    "    datasets.MNIST(\n",
    "        './datasets/mnist_data', train=True, download=True,\n",
    "        transform=transforms.Compose([\n",
    "            transforms.ToTensor(),\n",
    "            transforms.Normalize((0.1307,), (0.3081))\n",
    "        ])\n",
    "    ),\n",
    "    batch_size=32, shuffle=True\n",
    ")\n",
    "\n",
    "test_loader = torch.utils.data.DataLoader(\n",
    "    datasets.MNIST('./datasets/mnist_data', train=False,\n",
    "                   transform=transforms.Compose([\n",
    "                       transforms.ToTensor(),\n",
    "                       transforms.Normalize((0.1307,), (0.3081,))\n",
    "                   ])),\n",
    "    batch_size=32, shuffle=True\n",
    ")"
   ]
  },
  {
   "cell_type": "code",
   "execution_count": 62,
   "metadata": {},
   "outputs": [
    {
     "name": "stderr",
     "output_type": "stream",
     "text": [
      "100%|██████████| 1875/1875 [00:58<00:00, 31.97it/s]\n"
     ]
    },
    {
     "name": "stdout",
     "output_type": "stream",
     "text": [
      "Train epoch 1\t Loss: 0.311966\n",
      "\n",
      "Test set: average loss: 0.087371, accuracy: 9730/10000 (97.3000%)\n",
      "\n"
     ]
    },
    {
     "name": "stderr",
     "output_type": "stream",
     "text": [
      "100%|██████████| 1875/1875 [00:53<00:00, 35.36it/s]\n"
     ]
    },
    {
     "name": "stdout",
     "output_type": "stream",
     "text": [
      "Train epoch 2\t Loss: 0.086087\n",
      "\n",
      "Test set: average loss: 0.060584, accuracy: 9812/10000 (98.1200%)\n",
      "\n"
     ]
    },
    {
     "name": "stderr",
     "output_type": "stream",
     "text": [
      "100%|██████████| 1875/1875 [00:52<00:00, 35.54it/s]\n"
     ]
    },
    {
     "name": "stdout",
     "output_type": "stream",
     "text": [
      "Train epoch 3\t Loss: 0.061319\n",
      "\n",
      "Test set: average loss: 0.048539, accuracy: 9841/10000 (98.4100%)\n",
      "\n"
     ]
    },
    {
     "name": "stderr",
     "output_type": "stream",
     "text": [
      "100%|██████████| 1875/1875 [00:53<00:00, 35.35it/s]\n"
     ]
    },
    {
     "name": "stdout",
     "output_type": "stream",
     "text": [
      "Train epoch 4\t Loss: 0.048949\n",
      "\n",
      "Test set: average loss: 0.039032, accuracy: 9873/10000 (98.7300%)\n",
      "\n"
     ]
    },
    {
     "name": "stderr",
     "output_type": "stream",
     "text": [
      "100%|██████████| 1875/1875 [00:52<00:00, 35.71it/s]\n"
     ]
    },
    {
     "name": "stdout",
     "output_type": "stream",
     "text": [
      "Train epoch 5\t Loss: 0.040737\n",
      "\n",
      "Test set: average loss: 0.036026, accuracy: 9890/10000 (98.9000%)\n",
      "\n"
     ]
    },
    {
     "name": "stderr",
     "output_type": "stream",
     "text": [
      "100%|██████████| 1875/1875 [00:55<00:00, 33.93it/s]\n"
     ]
    },
    {
     "name": "stdout",
     "output_type": "stream",
     "text": [
      "Train epoch 6\t Loss: 0.034223\n",
      "\n",
      "Test set: average loss: 0.035041, accuracy: 9882/10000 (98.8200%)\n",
      "\n"
     ]
    },
    {
     "name": "stderr",
     "output_type": "stream",
     "text": [
      "100%|██████████| 1875/1875 [00:52<00:00, 36.02it/s]\n"
     ]
    },
    {
     "name": "stdout",
     "output_type": "stream",
     "text": [
      "Train epoch 7\t Loss: 0.029887\n",
      "\n",
      "Test set: average loss: 0.033346, accuracy: 9897/10000 (98.9700%)\n",
      "\n"
     ]
    },
    {
     "name": "stderr",
     "output_type": "stream",
     "text": [
      "100%|██████████| 1875/1875 [00:54<00:00, 34.23it/s]\n"
     ]
    },
    {
     "name": "stdout",
     "output_type": "stream",
     "text": [
      "Train epoch 8\t Loss: 0.025450\n",
      "\n",
      "Test set: average loss: 0.031213, accuracy: 9898/10000 (98.9800%)\n",
      "\n"
     ]
    },
    {
     "name": "stderr",
     "output_type": "stream",
     "text": [
      "100%|██████████| 1875/1875 [00:56<00:00, 33.42it/s]\n"
     ]
    },
    {
     "name": "stdout",
     "output_type": "stream",
     "text": [
      "Train epoch 9\t Loss: 0.023233\n",
      "\n",
      "Test set: average loss: 0.030924, accuracy: 9894/10000 (98.9400%)\n",
      "\n"
     ]
    },
    {
     "name": "stderr",
     "output_type": "stream",
     "text": [
      "100%|██████████| 1875/1875 [01:06<00:00, 28.28it/s]\n"
     ]
    },
    {
     "name": "stdout",
     "output_type": "stream",
     "text": [
      "Train epoch 10\t Loss: 0.020416\n",
      "\n",
      "Test set: average loss: 0.028022, accuracy: 9905/10000 (99.0500%)\n",
      "\n"
     ]
    }
   ],
   "source": [
    "for epoch in range(1, 10+1):\n",
    "    train(model, train_loader, optimizer, epoch)\n",
    "    test(model, test_loader)"
   ]
  },
  {
   "cell_type": "code",
   "execution_count": null,
   "metadata": {},
   "outputs": [],
   "source": []
  }
 ],
 "metadata": {
  "kernelspec": {
   "display_name": "dsml",
   "language": "python",
   "name": "python3"
  },
  "language_info": {
   "codemirror_mode": {
    "name": "ipython",
    "version": 3
   },
   "file_extension": ".py",
   "mimetype": "text/x-python",
   "name": "python",
   "nbconvert_exporter": "python",
   "pygments_lexer": "ipython3",
   "version": "3.10.8"
  },
  "orig_nbformat": 4
 },
 "nbformat": 4,
 "nbformat_minor": 2
}
