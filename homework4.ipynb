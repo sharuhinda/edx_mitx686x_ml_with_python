{
 "cells": [
  {
   "cell_type": "code",
   "execution_count": 59,
   "metadata": {},
   "outputs": [
    {
     "name": "stdout",
     "output_type": "stream",
     "text": [
      "numpy version: 1.23.5\n",
      "matplotlib version: 3.6.2\n",
      "statsmodels version: 0.13.5\n"
     ]
    }
   ],
   "source": [
    "import numpy as np\n",
    "print('numpy version:', np.__version__)\n",
    "\n",
    "import matplotlib as mpl\n",
    "print('matplotlib version:', mpl.__version__)\n",
    "import matplotlib.pyplot as plt\n",
    "\n",
    "import scipy\n",
    "import statsmodels.api as sm\n",
    "print('statsmodels version:', sm.__version__)\n"
   ]
  },
  {
   "cell_type": "code",
   "execution_count": 2,
   "metadata": {},
   "outputs": [],
   "source": [
    "X = np.array([[0., -6.], [4., 4.],[0., 0.], [-5., 2.]])\n",
    "clust_centers = np.array([[-5., 2.], [0., -6.]])"
   ]
  },
  {
   "cell_type": "code",
   "execution_count": 7,
   "metadata": {},
   "outputs": [],
   "source": [
    "def dist_l2(A, B):\n",
    "    \"\"\"\n",
    "    Returns Euclidean distance between points A and B\n",
    "    \"\"\"\n",
    "    return np.sqrt(((A - B)**2).sum())"
   ]
  },
  {
   "cell_type": "code",
   "execution_count": 8,
   "metadata": {},
   "outputs": [],
   "source": [
    "def dist_l1(A, B):\n",
    "    return np.abs(A - B).sum()"
   ]
  },
  {
   "cell_type": "code",
   "execution_count": 9,
   "metadata": {},
   "outputs": [
    {
     "data": {
      "text/plain": [
       "array([[ 0., 14.,  6., 13.],\n",
       "       [14.,  0.,  8., 11.],\n",
       "       [ 6.,  8.,  0.,  7.],\n",
       "       [13., 11.,  7.,  0.]])"
      ]
     },
     "execution_count": 9,
     "metadata": {},
     "output_type": "execute_result"
    }
   ],
   "source": [
    "distances_l1 = np.array(\n",
    "    [[dist_l1(X[i, :], X[j, :]) for j in range(X.shape[0])] for i in range(X.shape[0])]\n",
    ")\n",
    "distances_l1"
   ]
  },
  {
   "cell_type": "code",
   "execution_count": 10,
   "metadata": {},
   "outputs": [
    {
     "data": {
      "text/plain": [
       "array([[ 0.        , 10.77032961,  6.        ,  9.43398113],\n",
       "       [10.77032961,  0.        ,  5.65685425,  9.21954446],\n",
       "       [ 6.        ,  5.65685425,  0.        ,  5.38516481],\n",
       "       [ 9.43398113,  9.21954446,  5.38516481,  0.        ]])"
      ]
     },
     "execution_count": 10,
     "metadata": {},
     "output_type": "execute_result"
    }
   ],
   "source": [
    "distances_l2 = np.array(\n",
    "    [[dist_l2(X[i, :], X[j, :]) for j in range(X.shape[0])] for i in range(X.shape[0])]\n",
    ")\n",
    "distances_l2"
   ]
  },
  {
   "cell_type": "code",
   "execution_count": 11,
   "metadata": {},
   "outputs": [
    {
     "data": {
      "text/plain": [
       "<matplotlib.collections.PathCollection at 0x1352bbc48e0>"
      ]
     },
     "execution_count": 11,
     "metadata": {},
     "output_type": "execute_result"
    },
    {
     "data": {
      "image/png": "[encoded data removed]",
      "text/plain": [
       "<Figure size 640x480 with 1 Axes>"
      ]
     },
     "metadata": {},
     "output_type": "display_data"
    }
   ],
   "source": [
    "plt.scatter(X[:, 0], X[:, 1])\n",
    "plt.scatter"
   ]
  },
  {
   "cell_type": "code",
   "execution_count": 12,
   "metadata": {},
   "outputs": [
    {
     "data": {
      "text/plain": [
       "array([8., 6., 2., 5.])"
      ]
     },
     "execution_count": 12,
     "metadata": {},
     "output_type": "execute_result"
    }
   ],
   "source": [
    "centroid = np.array([0., 2.])\n",
    "np.array([dist_l1(centroid, X[i, :]) for i in range(X.shape[0])])"
   ]
  },
  {
   "cell_type": "code",
   "execution_count": 13,
   "metadata": {},
   "outputs": [
    {
     "data": {
      "text/plain": [
       "array([ 0., 14.,  6., 13.])"
      ]
     },
     "execution_count": 13,
     "metadata": {},
     "output_type": "execute_result"
    }
   ],
   "source": [
    "np.array([dist_l1(X[0, :], X[i, :]) for i in range(X.shape[0])])"
   ]
  },
  {
   "cell_type": "code",
   "execution_count": 14,
   "metadata": {},
   "outputs": [
    {
     "data": {
      "text/plain": [
       "2.0"
      ]
     },
     "execution_count": 14,
     "metadata": {},
     "output_type": "execute_result"
    }
   ],
   "source": [
    "np.median(np.array([0., 4.]))"
   ]
  },
  {
   "cell_type": "code",
   "execution_count": 17,
   "metadata": {},
   "outputs": [
    {
     "data": {
      "text/plain": [
       "array([[13.,  0.],\n",
       "       [11., 14.],\n",
       "       [ 7.,  6.],\n",
       "       [ 0., 13.]])"
      ]
     },
     "execution_count": 17,
     "metadata": {},
     "output_type": "execute_result"
    }
   ],
   "source": [
    "np.array([[dist_l1(X[i, :], clust_centers[j, :]) for j in range(clust_centers.shape[0])] for i in range(X.shape[0])])"
   ]
  },
  {
   "cell_type": "code",
   "execution_count": 18,
   "metadata": {},
   "outputs": [
    {
     "data": {
      "text/plain": [
       "array([[9.5, 9. ],\n",
       "       [5.5, 5. ],\n",
       "       [3.5, 3. ],\n",
       "       [5.5, 6. ]])"
      ]
     },
     "execution_count": 18,
     "metadata": {},
     "output_type": "execute_result"
    }
   ],
   "source": [
    "clust_centers = np.array([[-0.5, 3], [0, 3]])\n",
    "np.array([[dist_l1(X[i, :], clust_centers[j, :]) for j in range(clust_centers.shape[0])] for i in range(X.shape[0])])"
   ]
  },
  {
   "cell_type": "code",
   "execution_count": 20,
   "metadata": {},
   "outputs": [
    {
     "data": {
      "text/plain": [
       "0.0"
      ]
     },
     "execution_count": 20,
     "metadata": {},
     "output_type": "execute_result"
    }
   ],
   "source": [
    "np.median(np.array([-6,0.,4.]))"
   ]
  },
  {
   "cell_type": "code",
   "execution_count": 21,
   "metadata": {},
   "outputs": [
    {
     "data": {
      "text/plain": [
       "array([[13.,  6.],\n",
       "       [11.,  8.],\n",
       "       [ 7.,  0.],\n",
       "       [ 0.,  7.]])"
      ]
     },
     "execution_count": 21,
     "metadata": {},
     "output_type": "execute_result"
    }
   ],
   "source": [
    "clust_centers = np.array([[-5., 2.], [0., 0.]])\n",
    "np.array([[dist_l1(X[i, :], clust_centers[j, :]) for j in range(clust_centers.shape[0])] for i in range(X.shape[0])])"
   ]
  },
  {
   "attachments": {},
   "cell_type": "markdown",
   "metadata": {},
   "source": [
    "### Maximum Likelyhood Estimation"
   ]
  },
  {
   "attachments": {},
   "cell_type": "markdown",
   "metadata": {},
   "source": [
    "Consider a general multinomial distribution with parameters $\\theta$. Recall that the likelihood of a dataset _D_ is given by:\n",
    "$$\n",
    "P(D | \\theta) = \\prod_{i=1}^{|\\theta|}{\\theta_i^{c_i}}\n",
    "$$\n",
    "where $c_i$ in the number of occurences of i-th event\n",
    "The MLE of $\\theta$ is the setting of $\\theta^*$ that maximizes $P(D|\\theta)$. In lecture we derived this to be\n",
    "$$\n",
    "\\theta_i^* = \\frac{c_i}{\\sum_{j=1}^{|\\theta^*|}{c_j}}\n",
    "$$"
   ]
  },
  {
   "attachments": {},
   "cell_type": "markdown",
   "metadata": {},
   "source": [
    "#### Unigram model "
   ]
  },
  {
   "cell_type": "code",
   "execution_count": 25,
   "metadata": {},
   "outputs": [
    {
     "name": "stdout",
     "output_type": "stream",
     "text": [
      "A: 0.4286, B: 0.3571, C: 0.2143\n"
     ]
    }
   ],
   "source": [
    "sequence = 'ABABBCABAABCAC'\n",
    "theta_A = sequence.count('A') / len(sequence)\n",
    "theta_B = sequence.count('B') / len(sequence)\n",
    "theta_C = sequence.count('C') / len(sequence)\n",
    "print(f'A: {theta_A:.4f}, B: {theta_B:.4f}, C: {theta_C:.4f}')"
   ]
  },
  {
   "cell_type": "code",
   "execution_count": 26,
   "metadata": {},
   "outputs": [],
   "source": [
    "def get_mle_unigram(sequence, vocab=None):\n",
    "    if vocab is None:\n",
    "        res = {}\n",
    "    else:\n",
    "        res = dict.fromkeys(vocab, 0)\n",
    "    for c in sequence:\n",
    "        res[c] = sequence.count(c) / len(sequence)\n",
    "    return res"
   ]
  },
  {
   "cell_type": "code",
   "execution_count": 27,
   "metadata": {},
   "outputs": [
    {
     "name": "stdout",
     "output_type": "stream",
     "text": [
      "{'A': 0.42857142857142855, 'B': 0.35714285714285715, 'C': 0.21428571428571427}\n"
     ]
    }
   ],
   "source": [
    "theta = get_mle_unigram(sequence=sequence)\n",
    "print(theta)"
   ]
  },
  {
   "cell_type": "code",
   "execution_count": 28,
   "metadata": {},
   "outputs": [],
   "source": [
    "def get_sequence_proba(sequence, theta):\n",
    "    res = 1\n",
    "    for c in sequence:\n",
    "        res *= theta[c]\n",
    "    return res"
   ]
  },
  {
   "cell_type": "code",
   "execution_count": 29,
   "metadata": {},
   "outputs": [
    {
     "data": {
      "text/plain": [
       "0.03279883381924198"
      ]
     },
     "execution_count": 29,
     "metadata": {},
     "output_type": "execute_result"
    }
   ],
   "source": [
    "get_sequence_proba('ABC', theta=theta)"
   ]
  },
  {
   "cell_type": "code",
   "execution_count": 30,
   "metadata": {},
   "outputs": [
    {
     "data": {
      "text/plain": [
       "0.04555393586005831"
      ]
     },
     "execution_count": 30,
     "metadata": {},
     "output_type": "execute_result"
    }
   ],
   "source": [
    "get_sequence_proba('BBB', theta=theta)"
   ]
  },
  {
   "cell_type": "code",
   "execution_count": 31,
   "metadata": {},
   "outputs": [
    {
     "data": {
      "text/plain": [
       "0.05466472303206997"
      ]
     },
     "execution_count": 31,
     "metadata": {},
     "output_type": "execute_result"
    }
   ],
   "source": [
    "get_sequence_proba('ABB', theta=theta)"
   ]
  },
  {
   "cell_type": "code",
   "execution_count": 32,
   "metadata": {},
   "outputs": [
    {
     "data": {
      "text/plain": [
       "0.039358600583090375"
      ]
     },
     "execution_count": 32,
     "metadata": {},
     "output_type": "execute_result"
    }
   ],
   "source": [
    "get_sequence_proba('AAC', theta=theta)"
   ]
  },
  {
   "attachments": {},
   "cell_type": "markdown",
   "metadata": {},
   "source": [
    "#### Bigram model"
   ]
  },
  {
   "attachments": {},
   "cell_type": "markdown",
   "metadata": {},
   "source": [
    "A bigram model computes the probability $P(D|\\theta)$ as:\n",
    "$$\n",
    "P(D|\\theta) = p(w_0) \\prod_{w_1, w_2 \\in D}{p(w_2|w_1)}\n",
    "$$\n",
    "where $w_0$ is the first word, and $(w_1, w_2)$ is a pair of consecutive words in the document."
   ]
  },
  {
   "cell_type": "code",
   "execution_count": 33,
   "metadata": {},
   "outputs": [],
   "source": [
    "sequence_init = ''.join('A B A B B C A B A A B C A C'.split(' '))\n",
    "sequence_target = ''.join('A A B C B A B'.split(' '))"
   ]
  },
  {
   "cell_type": "code",
   "execution_count": 38,
   "metadata": {},
   "outputs": [
    {
     "data": {
      "text/plain": [
       "'ABABBCABAABCAC'"
      ]
     },
     "execution_count": 38,
     "metadata": {},
     "output_type": "execute_result"
    }
   ],
   "source": [
    "sequence_init"
   ]
  },
  {
   "attachments": {},
   "cell_type": "markdown",
   "metadata": {},
   "source": [
    "For bigram model we have to evaluate probabilities of A|A, B|A, A|B, B|B, A|C, B|C. Other probabilities can be calculated via p(C|A) = 1 - (p(A|A) + p(B|A)) as no other variants exist.  \n",
    "Also conditional probability $p(w_2|w_1)$ calculates as\n",
    "$$\n",
    "p(w_2|w_1) = \\frac{count(w_1, w_2)}{\\sum_{w_1, w_2^{'} \\in D}{count(w_1, w_2^{'})}}\n",
    "$$\n",
    "i.e. count of specified bigram divided over the count of all bigrams which begin with same word"
   ]
  },
  {
   "cell_type": "code",
   "execution_count": 39,
   "metadata": {},
   "outputs": [
    {
     "name": "stdout",
     "output_type": "stream",
     "text": [
      "{'AB': 4, 'BA': 2, 'BB': 1, 'BC': 2, 'CA': 2, 'AA': 1, 'AC': 1}\n"
     ]
    }
   ],
   "source": [
    "freq = {}\n",
    "for i in range(len(sequence_init)-1):\n",
    "    if freq.get(sequence_init[i:i+2]) is None:\n",
    "        freq[sequence_init[i:i+2]] = 1\n",
    "    else:\n",
    "        freq[sequence_init[i:i+2]] += 1\n",
    "print(freq)"
   ]
  },
  {
   "cell_type": "code",
   "execution_count": 42,
   "metadata": {},
   "outputs": [
    {
     "data": {
      "text/plain": [
       "{'AB': 0.6666666666666666,\n",
       " 'BA': 0.4,\n",
       " 'BB': 0.2,\n",
       " 'BC': 0.4,\n",
       " 'CA': 1.0,\n",
       " 'AA': 0.16666666666666666,\n",
       " 'AC': 0.16666666666666666}"
      ]
     },
     "execution_count": 42,
     "metadata": {},
     "output_type": "execute_result"
    }
   ],
   "source": [
    "bigram_prob = {}\n",
    "for bigram in freq.keys():\n",
    "    sum = 0\n",
    "    for check in freq.keys():\n",
    "        if (check[0] == bigram[0]):\n",
    "            sum += freq[check]\n",
    "    if sum == 0:\n",
    "        bigram_prob[bigram] = 1.0\n",
    "    else:\n",
    "        bigram_prob[bigram] = freq[bigram] / sum\n",
    "bigram_prob"
   ]
  },
  {
   "cell_type": "code",
   "execution_count": 43,
   "metadata": {},
   "outputs": [
    {
     "data": {
      "text/plain": [
       "0.9999999999999999"
      ]
     },
     "execution_count": 43,
     "metadata": {},
     "output_type": "execute_result"
    }
   ],
   "source": [
    "# check correctness\n",
    "bigram_prob['AA']+bigram_prob['AB']+bigram_prob['AC']"
   ]
  },
  {
   "attachments": {},
   "cell_type": "markdown",
   "metadata": {},
   "source": [
    "### EM algorithm"
   ]
  },
  {
   "attachments": {},
   "cell_type": "markdown",
   "metadata": {},
   "source": [
    "We have mixture of Gaussians: $p(x|\\theta) = \\pi_1 N(x|\\mu_1, \\sigma_1^2) + \\pi_2 N(x|\\mu_2, \\sigma_2^2)$. The mixture parameters initialized as: $\\theta = \\{ \\pi_1, \\pi_2, \\mu_1, \\mu_2, \\sigma_1^2, \\sigma_2^2 \\} = \\{ 0.5, 0.5, 6, 7, 1, 4 \\}$  \n",
    "Dataset D has the following samples: $D = \\{ x^{(0)}=-1, x^{(1)}=0, x^{(2)}=4, x^{(3)}=5, x^{(4)}=6 \\}$  \n",
    "We want to set parameters $\\theta$ such that the data log-likelyhood $l(D|\\theta)$ was maximized\n",
    "$$\n",
    "l(D|\\theta) = \\argmax_{\\theta} \\sum_{i=1}^N{\\log {p(x^{(i)}|\\theta)}}\n",
    "$$"
   ]
  },
  {
   "attachments": {},
   "cell_type": "markdown",
   "metadata": {},
   "source": [
    "What is the log-likelihood of the data given the initial setting of $\\theta$? Round to the nearest tenth"
   ]
  },
  {
   "cell_type": "code",
   "execution_count": 52,
   "metadata": {},
   "outputs": [],
   "source": [
    "def get_gaussian_proba(x, weights, mu, sigma_sq):\n",
    "    return weights * np.exp(-((x.reshape(-1, 1) - mu) ** 2) / (2 * sigma_sq)) / ((2 * np.pi * sigma_sq)**0.5)"
   ]
  },
  {
   "cell_type": "code",
   "execution_count": 49,
   "metadata": {},
   "outputs": [],
   "source": [
    "X = np.array([-1., 0., 4., 5., 6.])\n",
    "weights = np.array([.5, .5])\n",
    "mus = np.array([6., 7.])\n",
    "sigmas_sq = np.array([1., 4.])"
   ]
  },
  {
   "cell_type": "code",
   "execution_count": 57,
   "metadata": {},
   "outputs": [
    {
     "data": {
      "text/plain": [
       "-24.512532330086678"
      ]
     },
     "execution_count": 57,
     "metadata": {},
     "output_type": "execute_result"
    }
   ],
   "source": [
    "np.log(get_gaussian_proba(X, weights=weights, mu=mus, sigma_sq=sigmas_sq).sum(axis=1)).sum()"
   ]
  },
  {
   "cell_type": "code",
   "execution_count": 60,
   "metadata": {},
   "outputs": [
    {
     "data": {
      "text/plain": [
       "array([[4.56736020e-12, 3.34575564e-05],\n",
       "       [3.03794142e-09, 2.18170674e-04],\n",
       "       [2.69954833e-02, 3.23793989e-02],\n",
       "       [1.20985362e-01, 6.04926811e-02],\n",
       "       [1.99471140e-01, 8.80163317e-02]])"
      ]
     },
     "execution_count": 60,
     "metadata": {},
     "output_type": "execute_result"
    }
   ],
   "source": [
    "get_gaussian_proba(X, weights=weights, mu=mus, sigma_sq=sigmas_sq)"
   ]
  },
  {
   "cell_type": "code",
   "execution_count": 62,
   "metadata": {},
   "outputs": [
    {
     "data": {
      "text/plain": [
       "array([[4.56736020e-12],\n",
       "       [3.03794142e-09],\n",
       "       [2.69954833e-02],\n",
       "       [1.20985362e-01],\n",
       "       [1.99471140e-01]])"
      ]
     },
     "execution_count": 62,
     "metadata": {},
     "output_type": "execute_result"
    }
   ],
   "source": [
    "scipy.stats.norm.pdf(X, mus[0], sigmas_sq[0]).reshape(-1, 1) * weights[0]"
   ]
  },
  {
   "cell_type": "code",
   "execution_count": 65,
   "metadata": {},
   "outputs": [
    {
     "data": {
      "text/plain": [
       "array([[0.00674887],\n",
       "       [0.01078466],\n",
       "       [0.03764218],\n",
       "       [0.04400817],\n",
       "       [0.04833351]])"
      ]
     },
     "execution_count": 65,
     "metadata": {},
     "output_type": "execute_result"
    }
   ],
   "source": [
    "# why are these results not consistent with those I got by applying self-made function?\n",
    "# in previous cell all is ok\n",
    "scipy.stats.norm.pdf(X, mus[1], sigmas_sq[1]).reshape(-1, 1) * weights[1]"
   ]
  },
  {
   "cell_type": "code",
   "execution_count": 74,
   "metadata": {},
   "outputs": [
    {
     "data": {
      "text/plain": [
       "array([[1.36512049e-07, 9.99999863e-01],\n",
       "       [1.39244156e-05, 9.99986076e-01],\n",
       "       [4.54661673e-01, 5.45338327e-01],\n",
       "       [6.66666667e-01, 3.33333333e-01],\n",
       "       [6.93842896e-01, 3.06157104e-01]])"
      ]
     },
     "execution_count": 74,
     "metadata": {},
     "output_type": "execute_result"
    }
   ],
   "source": [
    "# E-step #1\n",
    "tmp = get_gaussian_proba(X, weights=weights, mu=mus, sigma_sq=sigmas_sq)\n",
    "p_ji = tmp / tmp.sum(axis=1).reshape(-1, 1)\n",
    "p_ji"
   ]
  },
  {
   "cell_type": "code",
   "execution_count": 80,
   "metadata": {},
   "outputs": [
    {
     "data": {
      "text/plain": [
       "array([1.8151853, 3.1848147])"
      ]
     },
     "execution_count": 80,
     "metadata": {},
     "output_type": "execute_result"
    }
   ],
   "source": [
    "# M-step #1\n",
    "n_hat = p_ji.sum(axis=0)\n",
    "n_hat"
   ]
  },
  {
   "cell_type": "code",
   "execution_count": 82,
   "metadata": {},
   "outputs": [
    {
     "data": {
      "text/plain": [
       "array([0.36303706, 0.63696294])"
      ]
     },
     "execution_count": 82,
     "metadata": {},
     "output_type": "execute_result"
    }
   ],
   "source": [
    "weights_hat = n_hat / X.shape[0]\n",
    "weights_hat"
   ]
  },
  {
   "cell_type": "code",
   "execution_count": 87,
   "metadata": {},
   "outputs": [
    {
     "data": {
      "text/plain": [
       "array([5.13172803, 1.47103149])"
      ]
     },
     "execution_count": 87,
     "metadata": {},
     "output_type": "execute_result"
    }
   ],
   "source": [
    "mus_hat = (p_ji * X.reshape(-1, 1)).sum(axis=0) / n_hat\n",
    "mus_hat"
   ]
  },
  {
   "cell_type": "code",
   "execution_count": 93,
   "metadata": {},
   "outputs": [
    {
     "data": {
      "text/plain": [
       "array([0.6155625, 6.9670221])"
      ]
     },
     "execution_count": 93,
     "metadata": {},
     "output_type": "execute_result"
    }
   ],
   "source": [
    "sigmas_sq_hat = (((X.reshape(-1, 1) - mus_hat)**2)*p_ji).sum(axis=0) / n_hat\n",
    "sigmas_sq_hat"
   ]
  },
  {
   "cell_type": "code",
   "execution_count": null,
   "metadata": {},
   "outputs": [],
   "source": []
  }
 ],
 "metadata": {
  "kernelspec": {
   "display_name": "dsml",
   "language": "python",
   "name": "python3"
  },
  "language_info": {
   "codemirror_mode": {
    "name": "ipython",
    "version": 3
   },
   "file_extension": ".py",
   "mimetype": "text/x-python",
   "name": "python",
   "nbconvert_exporter": "python",
   "pygments_lexer": "ipython3",
   "version": "3.10.8"
  },
  "orig_nbformat": 4
 },
 "nbformat": 4,
 "nbformat_minor": 2
}
