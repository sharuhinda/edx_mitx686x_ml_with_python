{
 "cells": [
  {
   "cell_type": "markdown",
   "metadata": {},
   "source": []
  },
  {
   "cell_type": "code",
   "execution_count": 1,
   "metadata": {},
   "outputs": [
    {
     "name": "stdout",
     "output_type": "stream",
     "text": [
      "Numpy version: 1.23.5\n",
      "Matplotlib version: 3.6.2\n"
     ]
    }
   ],
   "source": [
    "import numpy as np\n",
    "print('Numpy version:', np.__version__)\n",
    "\n",
    "import matplotlib as mpl\n",
    "print('Matplotlib version:', mpl.__version__)\n",
    "import matplotlib.pyplot as plt\n"
   ]
  },
  {
   "cell_type": "code",
   "execution_count": 7,
   "metadata": {},
   "outputs": [
    {
     "name": "stdout",
     "output_type": "stream",
     "text": [
      "['i', 'me', 'my', 'myself', 'we', 'our', 'ours', 'ourselves', 'you', 'your', 'yours', 'yourself', 'yourselves', 'he', 'him', 'his', 'himself', 'she', 'her', 'hers', 'herself', 'it', 'its', 'itself', 'they', 'them', 'their', 'theirs', 'themselves', 'what', 'which', 'who', 'whom', 'this', 'that', 'these', 'those', 'am', 'is', 'are', 'was', 'were', 'be', 'been', 'being', 'have', 'has', 'had', 'having', 'do', 'does', 'did', 'doing', 'a', 'an', 'the', 'and', 'but', 'if', 'or', 'because', 'as', 'until', 'while', 'of', 'at', 'by', 'for', 'with', 'about', 'against', 'between', 'into', 'through', 'during', 'before', 'after', 'above', 'below', 'to', 'from', 'up', 'down', 'in', 'out', 'on', 'off', 'over', 'under', 'again', 'further', 'then', 'once', 'here', 'there', 'when', 'where', 'why', 'how', 'all', 'any', 'both', 'each', 'few', 'more', 'most', 'other', 'some', 'such', 'no', 'nor', 'not', 'only', 'own', 'same', 'so', 'than', 'too', 'very', 's', 't', 'can', 'will', 'just', 'don', 'should', 'now']\n"
     ]
    }
   ],
   "source": [
    "with open('stopwords.txt', 'r') as f:\n",
    "    sw = f.readlines()\n",
    "sw = [x.replace('\\n', '') for x in sw]\n",
    "print(sw)"
   ]
  },
  {
   "cell_type": "code",
   "execution_count": 9,
   "metadata": {},
   "outputs": [
    {
     "name": "stdout",
     "output_type": "stream",
     "text": [
      "['i', 'me', 'my', 'myself', 'we', 'our', 'ours', 'ourselves', 'you', 'your', 'yours', 'yourself', 'yourselves', 'he', 'him', 'his', 'himself', 'she', 'her', 'hers', 'herself', 'it', 'its', 'itself', 'they', 'them', 'their', 'theirs', 'themselves', 'what', 'which', 'who', 'whom', 'this', 'that', 'these', 'those', 'am', 'is', 'are', 'was', 'were', 'be', 'been', 'being', 'have', 'has', 'had', 'having', 'do', 'does', 'did', 'doing', 'a', 'an', 'the', 'and', 'but', 'if', 'or', 'because', 'as', 'until', 'while', 'of', 'at', 'by', 'for', 'with', 'about', 'against', 'between', 'into', 'through', 'during', 'before', 'after', 'above', 'below', 'to', 'from', 'up', 'down', 'in', 'out', 'on', 'off', 'over', 'under', 'again', 'further', 'then', 'once', 'here', 'there', 'when', 'where', 'why', 'how', 'all', 'any', 'both', 'each', 'few', 'more', 'most', 'other', 'some', 'such', 'no', 'nor', 'not', 'only', 'own', 'same', 'so', 'than', 'too', 'very', 's', 't', 'can', 'will', 'just', 'don', 'should', 'now']\n"
     ]
    }
   ],
   "source": [
    "with open('stopwords.txt', 'r') as f:\n",
    "    sw = f.read().split('\\n')[:-1]\n",
    "print(sw)"
   ]
  },
  {
   "cell_type": "code",
   "execution_count": 4,
   "metadata": {},
   "outputs": [
    {
     "data": {
      "text/plain": [
       "array([[ 6.,  5.,  6.,  5.],\n",
       "       [ 8.,  0.,  1.,  2.],\n",
       "       [ 7., 10.,  1.,  3.],\n",
       "       [ 4.,  1.,  9.,  0.],\n",
       "       [ 9.,  5.,  4., 10.]])"
      ]
     },
     "execution_count": 4,
     "metadata": {},
     "output_type": "execute_result"
    }
   ],
   "source": [
    "feature_matrix = (np.round(np.random.random(20) * 10)).reshape(5, -1)\n",
    "feature_matrix"
   ]
  },
  {
   "cell_type": "code",
   "execution_count": 11,
   "metadata": {},
   "outputs": [
    {
     "name": "stdout",
     "output_type": "stream",
     "text": [
      "[2. 1. 2. 2.] \n",
      " 3.0\n"
     ]
    }
   ],
   "source": [
    "theta = np.round(np.random.random(4)*3)\n",
    "theta_0 = 3.0\n",
    "print(theta, '\\n', theta_0)"
   ]
  },
  {
   "cell_type": "code",
   "execution_count": 13,
   "metadata": {},
   "outputs": [
    {
     "data": {
      "text/plain": [
       "array([[ 6.,  5.,  6.,  5.,  1.],\n",
       "       [ 8.,  0.,  1.,  2.,  1.],\n",
       "       [ 7., 10.,  1.,  3.,  1.],\n",
       "       [ 4.,  1.,  9.,  0.,  1.],\n",
       "       [ 9.,  5.,  4., 10.,  1.]])"
      ]
     },
     "execution_count": 13,
     "metadata": {},
     "output_type": "execute_result"
    }
   ],
   "source": [
    "feature_matrix_mod = np.hstack((feature_matrix, np.ones(shape=(feature_matrix.shape[0], 1))))\n",
    "feature_matrix_mod"
   ]
  },
  {
   "cell_type": "code",
   "execution_count": 14,
   "metadata": {},
   "outputs": [
    {
     "data": {
      "text/plain": [
       "array([2., 1., 2., 2., 3.])"
      ]
     },
     "execution_count": 14,
     "metadata": {},
     "output_type": "execute_result"
    }
   ],
   "source": [
    "theta_mod = np.hstack((theta, theta_0))\n",
    "theta_mod"
   ]
  },
  {
   "cell_type": "code",
   "execution_count": 15,
   "metadata": {},
   "outputs": [
    {
     "data": {
      "text/plain": [
       "array([42., 25., 35., 30., 54.])"
      ]
     },
     "execution_count": 15,
     "metadata": {},
     "output_type": "execute_result"
    }
   ],
   "source": [
    "feature_matrix_mod.dot(theta_mod.T)"
   ]
  },
  {
   "cell_type": "code",
   "execution_count": 17,
   "metadata": {},
   "outputs": [
    {
     "data": {
      "text/plain": [
       "array([22., 11., 21., 14., 28.])"
      ]
     },
     "execution_count": 17,
     "metadata": {},
     "output_type": "execute_result"
    }
   ],
   "source": [
    "np.apply_along_axis(lambda x: x.sum(), 1, feature_matrix)"
   ]
  },
  {
   "cell_type": "code",
   "execution_count": 20,
   "metadata": {},
   "outputs": [
    {
     "data": {
      "text/plain": [
       "array([ 0, -1,  0, -1,  0])"
      ]
     },
     "execution_count": 20,
     "metadata": {},
     "output_type": "execute_result"
    }
   ],
   "source": [
    "labels = np.sign(np.random.randint(-1, 1, 5))\n",
    "labels"
   ]
  },
  {
   "cell_type": "code",
   "execution_count": 21,
   "metadata": {},
   "outputs": [
    {
     "data": {
      "text/plain": [
       "array([ 1, -1,  1, -1,  1])"
      ]
     },
     "execution_count": 21,
     "metadata": {},
     "output_type": "execute_result"
    }
   ],
   "source": [
    "labels = np.where(labels == 0, 1, labels)\n",
    "labels"
   ]
  },
  {
   "cell_type": "code",
   "execution_count": 25,
   "metadata": {},
   "outputs": [
    {
     "name": "stdout",
     "output_type": "stream",
     "text": [
      "[-41.  26. -34.  31. -53.]\n",
      "[ 0. 26.  0. 31.  0.]\n"
     ]
    }
   ],
   "source": [
    "evals = 1 - labels*feature_matrix_mod.dot(theta_mod.T)\n",
    "print(evals)\n",
    "evals = np.where(evals < 0, 0, evals)\n",
    "print(evals)"
   ]
  },
  {
   "cell_type": "code",
   "execution_count": 63,
   "metadata": {},
   "outputs": [],
   "source": [
    "def hinge_loss(coord, label, theta, theta_0):\n",
    "    return np.max((0, 1 - label * ((coord * theta).sum() + theta_0)))"
   ]
  },
  {
   "cell_type": "code",
   "execution_count": 69,
   "metadata": {},
   "outputs": [
    {
     "name": "stdout",
     "output_type": "stream",
     "text": [
      "Length of theta: 3.61\n",
      "[2.25, 5.0, 1.25, 1.35, 6.0, 10.0, 0.0, 0.0]\n"
     ]
    },
    {
     "data": {
      "image/png": "[encoded data removed]",
      "text/plain": [
       "<Figure size 640x480 with 1 Axes>"
      ]
     },
     "metadata": {},
     "output_type": "display_data"
    }
   ],
   "source": [
    "theta = np.array([2.0, 3.0])\n",
    "theta_0 = -3.0\n",
    "\n",
    "theta_star1 = 2.0 * theta\n",
    "theta_star2 = 0.5 * theta\n",
    "\n",
    "norm = lambda x: np.sqrt((x**2).sum())\n",
    "\n",
    "X_1 = np.arange(-2, 2, 0.05)\n",
    "X_2 = (-theta[0] * X_1 - theta_0) / theta[1]\n",
    "\n",
    "\n",
    "print('Length of theta: {:.2f}'.format(norm(theta)))\n",
    "#print('Length of theta_star1: {:.2f}'.format(norm(theta_star1)))\n",
    "#print('Length of theta_star2: {:.2f}'.format(norm(theta_star2)))\n",
    "\n",
    "bound_lower = (-theta[0] * X_1 - theta_0 - 1) / theta[1]\n",
    "bound_upper = (-theta[0] * X_1 - theta_0 + 1) / theta[1]\n",
    "\n",
    "bound_lower_star1 = (-theta_star1[0] * X_1 - theta_0 - 1) / theta_star1[1]\n",
    "bound_upper_star2 = (-theta_star2[0] * X_1 - theta_0 + 1) / theta_star2[1]\n",
    "\n",
    "test_points = np.array([[-0.5, 1.75], [0.25, -0.5], [-1, 1.75], [1.1, 0.15], [1, 2], [-1.5, -1], [-0.75, 0.5], [0.5, 1.5]])\n",
    "test_y = np.array([-1.0, 1.0, -1.0, 1.0, -1.0, 1.0, -1.0, 1.0])\n",
    "test_hinge = [np.round(hinge_loss(test_points[i, :], test_y[i], theta, theta_0), 2) for i in range(test_points.shape[0])]\n",
    "print(test_hinge)\n",
    "\n",
    "plt.plot(X_1, X_2)\n",
    "plt.plot(X_1, bound_lower, 'r--', lw=0.5)\n",
    "plt.plot(X_1, bound_upper, 'r--', lw=0.5)\n",
    "plt.scatter(test_points[:, 0], test_points[:, 1], c=test_y, cmap='bwr')\n",
    "plt.quiver(theta[0], theta[1])\n",
    "#plt.plot(X_1, bound_lower_star1, 'g--', lw=0.75)\n",
    "#plt.plot(X_1, bound_upper_star2, 'c--', lw=0.75)\n",
    "ax = plt.gca()\n",
    "ax.spines['left'].set_position(('data', 0))\n",
    "ax.spines['bottom'].set_position(('data', 0))\n",
    "ax.spines['top'].set_visible(False)\n",
    "ax.spines['right'].set_visible(False)\n",
    "for i in range(len(test_hinge)):\n",
    "    ax.annotate(test_hinge[i], xy=test_points[i, :]+0.05)"
   ]
  },
  {
   "cell_type": "code",
   "execution_count": null,
   "metadata": {},
   "outputs": [],
   "source": []
  }
 ],
 "metadata": {
  "kernelspec": {
   "display_name": "dsml",
   "language": "python",
   "name": "python3"
  },
  "language_info": {
   "codemirror_mode": {
    "name": "ipython",
    "version": 3
   },
   "file_extension": ".py",
   "mimetype": "text/x-python",
   "name": "python",
   "nbconvert_exporter": "python",
   "pygments_lexer": "ipython3",
   "version": "3.10.8"
  },
  "orig_nbformat": 4,
  "vscode": {
   "interpreter": {
    "hash": "e1f381e82303d84d9328d36fb70b76a5df1bb1dfb90f8f346f754b4310717ab0"
   }
  }
 },
 "nbformat": 4,
 "nbformat_minor": 2
}
