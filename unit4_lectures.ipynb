{
 "cells": [
  {
   "cell_type": "code",
   "execution_count": 1,
   "metadata": {},
   "outputs": [
    {
     "name": "stdout",
     "output_type": "stream",
     "text": [
      "numpy version: 1.23.5\n",
      "matplotlib version: 3.6.2\n"
     ]
    }
   ],
   "source": [
    "import numpy as np\n",
    "print('numpy version:', np.__version__)\n",
    "\n",
    "import matplotlib as mpl\n",
    "print('matplotlib version:', mpl.__version__)\n",
    "import matplotlib.pyplot as plt\n"
   ]
  },
  {
   "cell_type": "code",
   "execution_count": 2,
   "metadata": {},
   "outputs": [],
   "source": [
    "mus = np.array([-3., 2.])\n",
    "sigmas_sq = np.array([4., 4.])\n",
    "weights = np.array([.5, .5])\n",
    "x = np.array([.2, -.9, -1, 1.2, 1.8])"
   ]
  },
  {
   "cell_type": "code",
   "execution_count": 6,
   "metadata": {},
   "outputs": [
    {
     "data": {
      "text/plain": [
       "array([[ 3.2, -1.8],\n",
       "       [ 2.1, -2.9],\n",
       "       [ 2. , -3. ],\n",
       "       [ 4.2, -0.8],\n",
       "       [ 4.8, -0.2]])"
      ]
     },
     "execution_count": 6,
     "metadata": {},
     "output_type": "execute_result"
    }
   ],
   "source": [
    "x.reshape(-1, 1) - mus"
   ]
  },
  {
   "cell_type": "code",
   "execution_count": 10,
   "metadata": {},
   "outputs": [],
   "source": [
    "mu = -3.\n",
    "sigma_sq = 4.\n",
    "weight = .5"
   ]
  },
  {
   "cell_type": "code",
   "execution_count": 18,
   "metadata": {},
   "outputs": [
    {
     "data": {
      "text/plain": [
       "array([3.2, 2.1, 2. , 4.2, 4.8])"
      ]
     },
     "execution_count": 18,
     "metadata": {},
     "output_type": "execute_result"
    }
   ],
   "source": [
    "x-mu"
   ]
  },
  {
   "cell_type": "code",
   "execution_count": 12,
   "metadata": {},
   "outputs": [
    {
     "data": {
      "text/plain": [
       "array([10.24,  4.41,  4.  , 17.64, 23.04])"
      ]
     },
     "execution_count": 12,
     "metadata": {},
     "output_type": "execute_result"
    }
   ],
   "source": [
    "(x - mu)**2"
   ]
  },
  {
   "cell_type": "code",
   "execution_count": 25,
   "metadata": {},
   "outputs": [
    {
     "data": {
      "text/plain": [
       "array([0.02773021, 0.05747054, 0.06049268, 0.0109959 , 0.00559863])"
      ]
     },
     "execution_count": 25,
     "metadata": {},
     "output_type": "execute_result"
    }
   ],
   "source": [
    "c1_posterior = np.exp(-((x-mu)**2)/(2*sigma_sq))/((2*np.pi*sigma_sq)**0.5)*weight\n",
    "c1_posterior"
   ]
  },
  {
   "cell_type": "code",
   "execution_count": 23,
   "metadata": {},
   "outputs": [],
   "source": [
    "mu2 = 2.\n",
    "sigma_sq2 = 4.\n",
    "weight2 = .5"
   ]
  },
  {
   "cell_type": "code",
   "execution_count": 26,
   "metadata": {},
   "outputs": [
    {
     "data": {
      "text/plain": [
       "array([0.06652131, 0.03485764, 0.0323794 , 0.09206754, 0.09923814])"
      ]
     },
     "execution_count": 26,
     "metadata": {},
     "output_type": "execute_result"
    }
   ],
   "source": [
    "c2_posterior = np.exp(-((x-mu2)**2)/(2*sigma_sq2))/((2*np.pi*sigma_sq2)**0.5)*weight2\n",
    "c2_posterior"
   ]
  },
  {
   "cell_type": "code",
   "execution_count": 28,
   "metadata": {},
   "outputs": [
    {
     "data": {
      "text/plain": [
       "array([0.29421497, 0.62245933, 0.65135486, 0.10669059, 0.05340333])"
      ]
     },
     "execution_count": 28,
     "metadata": {},
     "output_type": "execute_result"
    }
   ],
   "source": [
    "c1_posterior / (c1_posterior+c2_posterior)"
   ]
  },
  {
   "cell_type": "code",
   "execution_count": 8,
   "metadata": {},
   "outputs": [],
   "source": [
    "def compute_posterior(X, weights, mus, sigmas_sq):\n",
    "    X = X.reshape(-1, 1)\n",
    "    deltas = X - mus\n",
    "    return weights * 1 / ((2 * np.pi * sigmas_sq)**0.5) * np.exp(-(deltas ** 2)/(2 * sigmas_sq))"
   ]
  },
  {
   "cell_type": "code",
   "execution_count": 13,
   "metadata": {},
   "outputs": [
    {
     "data": {
      "text/plain": [
       "array([[0.02773021, 0.06652131],\n",
       "       [0.05747054, 0.03485764],\n",
       "       [0.06049268, 0.0323794 ],\n",
       "       [0.0109959 , 0.09206754],\n",
       "       [0.00559863, 0.09923814]])"
      ]
     },
     "execution_count": 13,
     "metadata": {},
     "output_type": "execute_result"
    }
   ],
   "source": [
    "tmp = compute_posterior(x, weights=weights, mus=mus, sigmas_sq=sigmas_sq)\n",
    "tmp"
   ]
  },
  {
   "cell_type": "code",
   "execution_count": 30,
   "metadata": {},
   "outputs": [
    {
     "data": {
      "text/plain": [
       "array([0.09425152, 0.09232818, 0.09287208, 0.10306343, 0.10483677])"
      ]
     },
     "execution_count": 30,
     "metadata": {},
     "output_type": "execute_result"
    }
   ],
   "source": [
    "tmp.sum(axis=1)"
   ]
  },
  {
   "cell_type": "code",
   "execution_count": 33,
   "metadata": {},
   "outputs": [
    {
     "data": {
      "text/plain": [
       "array([[0.29421497, 0.70578503],\n",
       "       [0.62245933, 0.37754067],\n",
       "       [0.65135486, 0.34864514],\n",
       "       [0.10669059, 0.89330941],\n",
       "       [0.05340333, 0.94659667]])"
      ]
     },
     "execution_count": 33,
     "metadata": {},
     "output_type": "execute_result"
    }
   ],
   "source": [
    "posteriors = tmp / tmp.sum(axis=1).reshape(-1, 1)\n",
    "posteriors"
   ]
  },
  {
   "cell_type": "code",
   "execution_count": 35,
   "metadata": {},
   "outputs": [
    {
     "data": {
      "text/plain": [
       "1.7281230917763732"
      ]
     },
     "execution_count": 35,
     "metadata": {},
     "output_type": "execute_result"
    }
   ],
   "source": [
    "n_hat1 = posteriors[:, 0].sum()\n",
    "n_hat1"
   ]
  },
  {
   "cell_type": "code",
   "execution_count": 37,
   "metadata": {},
   "outputs": [
    {
     "data": {
      "text/plain": [
       "0.34562461835527464"
      ]
     },
     "execution_count": 37,
     "metadata": {},
     "output_type": "execute_result"
    }
   ],
   "source": [
    "p_hat1 = n_hat1 / x.shape[0]\n",
    "p_hat1"
   ]
  },
  {
   "cell_type": "code",
   "execution_count": 39,
   "metadata": {},
   "outputs": [
    {
     "data": {
      "text/plain": [
       "-0.5373289474340418"
      ]
     },
     "execution_count": 39,
     "metadata": {},
     "output_type": "execute_result"
    }
   ],
   "source": [
    "mu_hat1 = (posteriors[:, 0] * x).sum() / n_hat1\n",
    "mu_hat1"
   ]
  },
  {
   "cell_type": "code",
   "execution_count": 40,
   "metadata": {},
   "outputs": [
    {
     "data": {
      "text/plain": [
       "0.5757859076870627"
      ]
     },
     "execution_count": 40,
     "metadata": {},
     "output_type": "execute_result"
    }
   ],
   "source": [
    "sigma_sq_hat1 = (posteriors[:, 0] * (x - mu_hat1)**2).sum() / n_hat1\n",
    "sigma_sq_hat1"
   ]
  },
  {
   "cell_type": "code",
   "execution_count": null,
   "metadata": {},
   "outputs": [],
   "source": []
  }
 ],
 "metadata": {
  "kernelspec": {
   "display_name": "dsml",
   "language": "python",
   "name": "python3"
  },
  "language_info": {
   "codemirror_mode": {
    "name": "ipython",
    "version": 3
   },
   "file_extension": ".py",
   "mimetype": "text/x-python",
   "name": "python",
   "nbconvert_exporter": "python",
   "pygments_lexer": "ipython3",
   "version": "3.10.8"
  },
  "orig_nbformat": 4
 },
 "nbformat": 4,
 "nbformat_minor": 2
}
