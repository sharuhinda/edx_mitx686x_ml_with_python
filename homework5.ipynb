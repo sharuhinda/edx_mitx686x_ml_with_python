{
 "cells": [
  {
   "cell_type": "code",
   "execution_count": 1,
   "metadata": {},
   "outputs": [
    {
     "name": "stdout",
     "output_type": "stream",
     "text": [
      "numpy version: 1.23.5\n"
     ]
    }
   ],
   "source": [
    "import numpy as np\n",
    "print('numpy version:', np.__version__)\n"
   ]
  },
  {
   "cell_type": "code",
   "execution_count": 2,
   "metadata": {},
   "outputs": [],
   "source": [
    "def update_v(V, T, R, gamma):\n",
    "    \"\"\"\n",
    "    Returns updated value array (V)\n",
    "\n",
    "    \"\"\"\n",
    "    reward = R.reshape(-1, 1) + gamma * V.reshape(1, -1) # computing reward part (R(s) + gamma * V_k(s')) !!! it's IMPORTANT that s' !!!\n",
    "    reward_lh = T * reward # computing reward weighted by likelihood (probabilities) for each current_state, future_state and action => shape (3, 5, 5)\n",
    "    Q = reward_lh.sum(axis=2) # summing up across last dimension (future_states) => shape (3, 5) actions x current_states\n",
    "    V_new = Q.max(axis=0) # determining best variant for each state across possible actions => shape (5,)\n",
    "    return V_new"
   ]
  },
  {
   "cell_type": "code",
   "execution_count": 10,
   "metadata": {},
   "outputs": [],
   "source": [
    "def update_v_mod(V, T, R, gamma):\n",
    "    Q = [[sum([T[a][s][t] * (R[a][s][t] + gamma * V[t]) for t in range(len(V))]) for s in range(len(V))] for a in range(T.shape[0])]\n",
    "    V = np.max(Q, axis=0)\n",
    "    return V"
   ]
  },
  {
   "cell_type": "code",
   "execution_count": 14,
   "metadata": {},
   "outputs": [],
   "source": [
    "S = ['A', 'B', 'C', 'D']\n",
    "A = ['up', 'down']\n",
    "T = np.array(\n",
    "    [\n",
    "        [[0., 1., 0., 0.], # action == 'up'\n",
    "         [0., 0., 1., 0.],\n",
    "         [0., 0., 0., 1.],\n",
    "         [0., 0., 0., 0.]],\n",
    "        [[0., 0., 0., 0.], # action == 'down'\n",
    "         [1., 0., 0., 0.],\n",
    "         [0., 1., 0., 0.],\n",
    "         [0., 0., 1., 0.]]\n",
    "    ]\n",
    ")\n",
    "R = np.array(\n",
    "    [\n",
    "        [[0., 1., 0., 0.], # action == 'up'\n",
    "         [0., 0., 1., 0.],\n",
    "         [0., 0., 0., 10.],\n",
    "         [0., 0., 0., 0.]],\n",
    "        [[0., 0., 0., 0.], # action == 'down'\n",
    "         [1., 0., 0., 0.],\n",
    "         [0., 1., 0., 0.],\n",
    "         [0., 0., 10., 0.]]\n",
    "    ]\n",
    ")\n",
    "gamma = 0.75\n",
    "V = np.zeros((4,))"
   ]
  },
  {
   "cell_type": "code",
   "execution_count": 13,
   "metadata": {},
   "outputs": [
    {
     "data": {
      "text/plain": [
       "array([ 1.75,  8.5 , 17.5 , 17.5 ])"
      ]
     },
     "execution_count": 13,
     "metadata": {},
     "output_type": "execute_result"
    }
   ],
   "source": [
    "V = update_v_mod(V=V, T=T, R=R, gamma=gamma)\n",
    "V"
   ]
  },
  {
   "cell_type": "code",
   "execution_count": 15,
   "metadata": {},
   "outputs": [
    {
     "data": {
      "text/plain": [
       "array([24.25, 31.  , 40.  , 40.  ])"
      ]
     },
     "execution_count": 15,
     "metadata": {},
     "output_type": "execute_result"
    }
   ],
   "source": [
    "for _ in range(100):\n",
    "    V = update_v_mod(V=V, T=T, R=R, gamma=gamma)\n",
    "V"
   ]
  },
  {
   "cell_type": "code",
   "execution_count": 16,
   "metadata": {},
   "outputs": [
    {
     "data": {
      "text/plain": [
       "array([24.25, 31.  , 40.  , 40.  ])"
      ]
     },
     "execution_count": 16,
     "metadata": {},
     "output_type": "execute_result"
    }
   ],
   "source": [
    "for _ in range(100):\n",
    "    V = update_v_mod(V=V, T=T, R=R, gamma=gamma)\n",
    "V"
   ]
  },
  {
   "cell_type": "code",
   "execution_count": 18,
   "metadata": {},
   "outputs": [],
   "source": [
    "S = [x for x in range(6)]\n",
    "A = ['C', 'M']\n",
    "# for states 1, 2, 3: T(s, M, s-1) = 1, T(s, C, s+2) = 0.7, T(s, C, s) = 0.3\n",
    "# for state 0: T(s, M, s) = 1, T(s, C, s) = 1 => state 0 is terminal state\n",
    "# for states 4, 5: T(s, M, s-1) = 1, T(s, C, s) = 1\n",
    "\n",
    "# WARNING: T tensor here is defined as s, a, s' instead of a, s, s' as were earlier\n",
    "T = np.array(\n",
    "    [\n",
    "        [[1., 0., 0., 0., 0., 0.], # state 0, action M\n",
    "         [1., 0., 0., 0., 0., 0.]], # action C\n",
    "        [[1., 0., 0., 0., 0., 0.], # state 1, action M\n",
    "         [0., .3, 0., .7, 0., 0.]], # action C\n",
    "        [[0., 1., 0., 0., 0., 0.], # state 2, action M\n",
    "         [0., 0., .3, 0., .7, 0.]], # action C\n",
    "        [[0., 0., 1., 0., 0., 0.], # state 3, action M\n",
    "         [0., 0., 0., .3, 0., .7]], # action C\n",
    "        [[0., 0., 0., 1., 0., 0.], # state 4, action M\n",
    "         [0., 0., 0., 0., 1., 0.]], # action C\n",
    "        [[0., 0., 0., 0., 1., 0.], # state 5, action M\n",
    "         [0., 0., 0., 0., 0., 1.]], # action C\n",
    "    ]\n",
    ")\n",
    "\n",
    "# R(s, a, s') = |s' - s| ^ (1/3) for each s != s'\n",
    "# R(s, a, s) = (s + 4)^(-1/2) for each s != 0\n",
    "# R(0, M, 0) = R(0, C, 0) = 0\n",
    "\n",
    "# WARNING: R tensor here is defined as s, a, s' instead of a, s, s' as were earlier\n",
    "R = np.array([[[np.abs(s - s_prime)**(1/3) if s_prime != s else (s + 4)**(-1/2) for s_prime in range(len(S))] for a in range(len(A))] for s in range(len(S))])\n",
    "R[0, 0, 0] = 0\n",
    "R[0, 1, 0] = 0\n",
    "gamma = 0.6\n",
    "Q = np.zeros((len(S), len(A)))"
   ]
  },
  {
   "cell_type": "code",
   "execution_count": 20,
   "metadata": {},
   "outputs": [
    {
     "data": {
      "text/plain": [
       "array([[[0.        , 1.        , 1.25992105, 1.44224957, 1.58740105,\n",
       "         1.70997595],\n",
       "        [0.        , 1.        , 1.25992105, 1.44224957, 1.58740105,\n",
       "         1.70997595]],\n",
       "\n",
       "       [[1.        , 0.4472136 , 1.        , 1.25992105, 1.44224957,\n",
       "         1.58740105],\n",
       "        [1.        , 0.4472136 , 1.        , 1.25992105, 1.44224957,\n",
       "         1.58740105]],\n",
       "\n",
       "       [[1.25992105, 1.        , 0.40824829, 1.        , 1.25992105,\n",
       "         1.44224957],\n",
       "        [1.25992105, 1.        , 0.40824829, 1.        , 1.25992105,\n",
       "         1.44224957]],\n",
       "\n",
       "       [[1.44224957, 1.25992105, 1.        , 0.37796447, 1.        ,\n",
       "         1.25992105],\n",
       "        [1.44224957, 1.25992105, 1.        , 0.37796447, 1.        ,\n",
       "         1.25992105]],\n",
       "\n",
       "       [[1.58740105, 1.44224957, 1.25992105, 1.        , 0.35355339,\n",
       "         1.        ],\n",
       "        [1.58740105, 1.44224957, 1.25992105, 1.        , 0.35355339,\n",
       "         1.        ]],\n",
       "\n",
       "       [[1.70997595, 1.58740105, 1.44224957, 1.25992105, 1.        ,\n",
       "         0.33333333],\n",
       "        [1.70997595, 1.58740105, 1.44224957, 1.25992105, 1.        ,\n",
       "         0.33333333]]])"
      ]
     },
     "execution_count": 20,
     "metadata": {},
     "output_type": "execute_result"
    }
   ],
   "source": [
    "R"
   ]
  },
  {
   "cell_type": "code",
   "execution_count": 21,
   "metadata": {},
   "outputs": [],
   "source": [
    "def update_q(Q, T, R, gamma):\n",
    "    Q = [[sum([T[s][a][t] * (R[s][a][t] + gamma * np.max(Q, axis=1)[t]) for t in range(Q.shape[0])]) for a in range(Q.shape[1])] for s in range(Q.shape[0])]\n",
    "    return Q"
   ]
  },
  {
   "cell_type": "code",
   "execution_count": 22,
   "metadata": {},
   "outputs": [
    {
     "data": {
      "text/plain": [
       "array([[0., 0.],\n",
       "       [0., 0.],\n",
       "       [0., 0.],\n",
       "       [0., 0.],\n",
       "       [0., 0.],\n",
       "       [0., 0.]])"
      ]
     },
     "execution_count": 22,
     "metadata": {},
     "output_type": "execute_result"
    }
   ],
   "source": [
    "Q"
   ]
  },
  {
   "cell_type": "code",
   "execution_count": 23,
   "metadata": {},
   "outputs": [
    {
     "data": {
      "text/plain": [
       "[[0.0, 0.0],\n",
       " [1.0, 1.0161088135763985],\n",
       " [1.0, 1.00441922206557],\n",
       " [1.0, 0.9953340768291793],\n",
       " [1.0, 0.3535533905932738],\n",
       " [1.0, 0.3333333333333333]]"
      ]
     },
     "execution_count": 23,
     "metadata": {},
     "output_type": "execute_result"
    }
   ],
   "source": [
    "Q = update_q(Q=Q, T=T, R=R, gamma=gamma)\n",
    "Q"
   ]
  },
  {
   "attachments": {},
   "cell_type": "markdown",
   "metadata": {},
   "source": [
    "![Task description](images/homework5_q_iteration.png)"
   ]
  },
  {
   "cell_type": "code",
   "execution_count": null,
   "metadata": {},
   "outputs": [],
   "source": []
  }
 ],
 "metadata": {
  "kernelspec": {
   "display_name": "dsml",
   "language": "python",
   "name": "python3"
  },
  "language_info": {
   "codemirror_mode": {
    "name": "ipython",
    "version": 3
   },
   "file_extension": ".py",
   "mimetype": "text/x-python",
   "name": "python",
   "nbconvert_exporter": "python",
   "pygments_lexer": "ipython3",
   "version": "3.10.8"
  },
  "orig_nbformat": 4
 },
 "nbformat": 4,
 "nbformat_minor": 2
}
